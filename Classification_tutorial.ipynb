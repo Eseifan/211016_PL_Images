{
 "cells": [
  {
   "cell_type": "markdown",
   "metadata": {},
   "source": [
    "# Image classification model with TensorFlow"
   ]
  },
  {
   "cell_type": "markdown",
   "metadata": {},
   "source": [
    "[Online Tutorial](<https://keras.io/examples/vision/image_classification_from_scratch/>)"
   ]
  },
  {
   "cell_type": "markdown",
   "metadata": {},
   "source": [
    "## Install packages and libraries"
   ]
  },
  {
   "cell_type": "code",
   "execution_count": 4,
   "metadata": {},
   "outputs": [
    {
     "name": "stdout",
     "output_type": "stream",
     "text": [
      "Requirement already satisfied: tensorflow in c:\\users\\offmr\\anaconda3\\envs\\dsti_p1\\lib\\site-packages (2.6.0)\n",
      "Requirement already satisfied: six~=1.15.0 in c:\\users\\offmr\\anaconda3\\envs\\dsti_p1\\lib\\site-packages (from tensorflow) (1.15.0)\n",
      "Requirement already satisfied: wheel~=0.35 in c:\\users\\offmr\\anaconda3\\envs\\dsti_p1\\lib\\site-packages (from tensorflow) (0.36.2)\n",
      "Requirement already satisfied: protobuf>=3.9.2 in c:\\users\\offmr\\anaconda3\\envs\\dsti_p1\\lib\\site-packages (from tensorflow) (3.18.1)\n",
      "Requirement already satisfied: tensorflow-estimator~=2.6 in c:\\users\\offmr\\anaconda3\\envs\\dsti_p1\\lib\\site-packages (from tensorflow) (2.6.0)\n",
      "Requirement already satisfied: flatbuffers~=1.12.0 in c:\\users\\offmr\\anaconda3\\envs\\dsti_p1\\lib\\site-packages (from tensorflow) (1.12)\n",
      "Requirement already satisfied: termcolor~=1.1.0 in c:\\users\\offmr\\anaconda3\\envs\\dsti_p1\\lib\\site-packages (from tensorflow) (1.1.0)\n",
      "Requirement already satisfied: google-pasta~=0.2 in c:\\users\\offmr\\anaconda3\\envs\\dsti_p1\\lib\\site-packages (from tensorflow) (0.2.0)\n",
      "Requirement already satisfied: opt-einsum~=3.3.0 in c:\\users\\offmr\\anaconda3\\envs\\dsti_p1\\lib\\site-packages (from tensorflow) (3.3.0)\n",
      "Requirement already satisfied: absl-py~=0.10 in c:\\users\\offmr\\anaconda3\\envs\\dsti_p1\\lib\\site-packages (from tensorflow) (0.14.1)\n",
      "Requirement already satisfied: clang~=5.0 in c:\\users\\offmr\\anaconda3\\envs\\dsti_p1\\lib\\site-packages (from tensorflow) (5.0)\n",
      "Requirement already satisfied: h5py~=3.1.0 in c:\\users\\offmr\\anaconda3\\envs\\dsti_p1\\lib\\site-packages (from tensorflow) (3.1.0)\n",
      "Requirement already satisfied: astunparse~=1.6.3 in c:\\users\\offmr\\anaconda3\\envs\\dsti_p1\\lib\\site-packages (from tensorflow) (1.6.3)\n",
      "Requirement already satisfied: gast==0.4.0 in c:\\users\\offmr\\anaconda3\\envs\\dsti_p1\\lib\\site-packages (from tensorflow) (0.4.0)\n",
      "Requirement already satisfied: typing-extensions~=3.7.4 in c:\\users\\offmr\\anaconda3\\envs\\dsti_p1\\lib\\site-packages (from tensorflow) (3.7.4.3)\n",
      "Requirement already satisfied: tensorboard~=2.6 in c:\\users\\offmr\\anaconda3\\envs\\dsti_p1\\lib\\site-packages (from tensorflow) (2.7.0)\n",
      "Requirement already satisfied: numpy~=1.19.2 in c:\\users\\offmr\\anaconda3\\envs\\dsti_p1\\lib\\site-packages (from tensorflow) (1.19.5)\n",
      "Requirement already satisfied: keras~=2.6 in c:\\users\\offmr\\anaconda3\\envs\\dsti_p1\\lib\\site-packages (from tensorflow) (2.6.0)\n",
      "Requirement already satisfied: wrapt~=1.12.1 in c:\\users\\offmr\\appdata\\roaming\\python\\python38\\site-packages (from tensorflow) (1.12.1)\n",
      "Requirement already satisfied: grpcio<2.0,>=1.37.0 in c:\\users\\offmr\\anaconda3\\envs\\dsti_p1\\lib\\site-packages (from tensorflow) (1.41.0)\n",
      "Requirement already satisfied: keras-preprocessing~=1.1.2 in c:\\users\\offmr\\anaconda3\\envs\\dsti_p1\\lib\\site-packages (from tensorflow) (1.1.2)\n",
      "Requirement already satisfied: tensorboard-plugin-wit>=1.6.0 in c:\\users\\offmr\\anaconda3\\envs\\dsti_p1\\lib\\site-packages (from tensorboard~=2.6->tensorflow) (1.8.0)\n",
      "Requirement already satisfied: requests<3,>=2.21.0 in c:\\users\\offmr\\anaconda3\\envs\\dsti_p1\\lib\\site-packages (from tensorboard~=2.6->tensorflow) (2.26.0)\n",
      "Requirement already satisfied: google-auth<3,>=1.6.3 in c:\\users\\offmr\\anaconda3\\envs\\dsti_p1\\lib\\site-packages (from tensorboard~=2.6->tensorflow) (2.3.0)\n",
      "Requirement already satisfied: werkzeug>=0.11.15 in c:\\users\\offmr\\anaconda3\\envs\\dsti_p1\\lib\\site-packages (from tensorboard~=2.6->tensorflow) (2.0.2)\n",
      "Requirement already satisfied: tensorboard-data-server<0.7.0,>=0.6.0 in c:\\users\\offmr\\anaconda3\\envs\\dsti_p1\\lib\\site-packages (from tensorboard~=2.6->tensorflow) (0.6.1)\n",
      "Requirement already satisfied: google-auth-oauthlib<0.5,>=0.4.1 in c:\\users\\offmr\\anaconda3\\envs\\dsti_p1\\lib\\site-packages (from tensorboard~=2.6->tensorflow) (0.4.6)\n",
      "Requirement already satisfied: markdown>=2.6.8 in c:\\users\\offmr\\anaconda3\\envs\\dsti_p1\\lib\\site-packages (from tensorboard~=2.6->tensorflow) (3.3.4)\n",
      "Requirement already satisfied: setuptools>=41.0.0 in c:\\users\\offmr\\anaconda3\\envs\\dsti_p1\\lib\\site-packages (from tensorboard~=2.6->tensorflow) (52.0.0.post20210125)\n",
      "Requirement already satisfied: rsa<5,>=3.1.4 in c:\\users\\offmr\\anaconda3\\envs\\dsti_p1\\lib\\site-packages (from google-auth<3,>=1.6.3->tensorboard~=2.6->tensorflow) (4.7.2)\n",
      "Requirement already satisfied: pyasn1-modules>=0.2.1 in c:\\users\\offmr\\anaconda3\\envs\\dsti_p1\\lib\\site-packages (from google-auth<3,>=1.6.3->tensorboard~=2.6->tensorflow) (0.2.8)\n",
      "Requirement already satisfied: cachetools<5.0,>=2.0.0 in c:\\users\\offmr\\anaconda3\\envs\\dsti_p1\\lib\\site-packages (from google-auth<3,>=1.6.3->tensorboard~=2.6->tensorflow) (4.2.4)\n",
      "Requirement already satisfied: requests-oauthlib>=0.7.0 in c:\\users\\offmr\\anaconda3\\envs\\dsti_p1\\lib\\site-packages (from google-auth-oauthlib<0.5,>=0.4.1->tensorboard~=2.6->tensorflow) (1.3.0)\n",
      "Requirement already satisfied: pyasn1<0.5.0,>=0.4.6 in c:\\users\\offmr\\anaconda3\\envs\\dsti_p1\\lib\\site-packages (from pyasn1-modules>=0.2.1->google-auth<3,>=1.6.3->tensorboard~=2.6->tensorflow) (0.4.8)\n",
      "Requirement already satisfied: charset-normalizer~=2.0.0 in c:\\users\\offmr\\anaconda3\\envs\\dsti_p1\\lib\\site-packages (from requests<3,>=2.21.0->tensorboard~=2.6->tensorflow) (2.0.4)\n",
      "Requirement already satisfied: urllib3<1.27,>=1.21.1 in c:\\users\\offmr\\anaconda3\\envs\\dsti_p1\\lib\\site-packages (from requests<3,>=2.21.0->tensorboard~=2.6->tensorflow) (1.26.5)\n",
      "Requirement already satisfied: idna<4,>=2.5 in c:\\users\\offmr\\anaconda3\\envs\\dsti_p1\\lib\\site-packages (from requests<3,>=2.21.0->tensorboard~=2.6->tensorflow) (3.2)\n",
      "Requirement already satisfied: certifi>=2017.4.17 in c:\\users\\offmr\\anaconda3\\envs\\dsti_p1\\lib\\site-packages (from requests<3,>=2.21.0->tensorboard~=2.6->tensorflow) (2020.12.5)\n",
      "Requirement already satisfied: oauthlib>=3.0.0 in c:\\users\\offmr\\anaconda3\\envs\\dsti_p1\\lib\\site-packages (from requests-oauthlib>=0.7.0->google-auth-oauthlib<0.5,>=0.4.1->tensorboard~=2.6->tensorflow) (3.1.1)\n"
     ]
    }
   ],
   "source": [
    "!pip install tensorflow"
   ]
  },
  {
   "cell_type": "markdown",
   "metadata": {},
   "source": [
    "## Loading packages"
   ]
  },
  {
   "cell_type": "code",
   "execution_count": 5,
   "metadata": {},
   "outputs": [],
   "source": [
    "import tensorflow as tf\n",
    "from tensorflow import keras\n",
    "from tensorflow.keras import layers\n",
    "import matplotlib.pyplot as plt\n",
    "import os\n",
    "import tqdm"
   ]
  },
  {
   "cell_type": "markdown",
   "metadata": {},
   "source": [
    "## Download and open the file"
   ]
  },
  {
   "cell_type": "markdown",
   "metadata": {},
   "source": [
    "When copying from a tutorial, make sure you copy the entire cell.  For this best copy from left to right and check the results, including in your local folder, to see that files downloaded correctly."
   ]
  },
  {
   "cell_type": "code",
   "execution_count": 7,
   "metadata": {},
   "outputs": [
    {
     "name": "stderr",
     "output_type": "stream",
     "text": [
      "  % Total    % Received % Xferd  Average Speed   Time    Time     Time  Current\n",
      "                                 Dload  Upload   Total   Spent    Left  Speed\n",
      "\n",
      "  0     0    0     0    0     0      0      0 --:--:-- --:--:-- --:--:--     0\n",
      "  0  786M    0 6206k    0     0  6206k      0  0:02:09 --:--:--  0:02:09 8103k\n",
      "  2  786M    2 16.8M    0     0  16.8M      0  0:00:46  0:00:01  0:00:45 9767k\n",
      "  3  786M    3 27.8M    0     0  13.9M      0  0:00:56  0:00:02  0:00:54 10.0M\n",
      "  4  786M    4 38.7M    0     0  12.9M      0  0:01:00  0:00:03  0:00:57 10.2M\n",
      "  6  786M    6 49.9M    0     0  12.4M      0  0:01:02  0:00:04  0:00:58 10.4M\n",
      "  7  786M    7 60.7M    0     0  12.1M      0  0:01:04  0:00:05  0:00:59 10.9M\n",
      "  9  786M    9 71.7M    0     0  11.9M      0  0:01:05  0:00:06  0:00:59 10.9M\n",
      " 10  786M   10 82.7M    0     0  11.8M      0  0:01:06  0:00:07  0:00:59 10.9M\n",
      " 11  786M   11 93.7M    0     0  11.7M      0  0:01:07  0:00:08  0:00:59 10.9M\n",
      " 13  786M   13  104M    0     0  11.6M      0  0:01:07  0:00:09  0:00:58 10.9M\n",
      " 14  786M   14  115M    0     0  11.5M      0  0:01:08  0:00:10  0:00:58 10.9M\n",
      " 15  786M   15  124M    0     0  11.2M      0  0:01:09  0:00:11  0:00:58 10.4M\n",
      " 17  786M   17  135M    0     0  11.2M      0  0:01:09  0:00:12  0:00:57 10.5M\n",
      " 18  786M   18  146M    0     0  11.2M      0  0:01:09  0:00:13  0:00:56 10.4M\n",
      " 19  786M   19  157M    0     0  11.2M      0  0:01:10  0:00:14  0:00:56 10.5M\n",
      " 21  786M   21  168M    0     0  11.2M      0  0:01:10  0:00:15  0:00:55 10.5M\n",
      " 22  786M   22  179M    0     0  11.2M      0  0:01:10  0:00:16  0:00:54 11.0M\n",
      " 24  786M   24  190M    0     0  11.2M      0  0:01:10  0:00:17  0:00:53 11.0M\n",
      " 25  786M   25  201M    0     0  11.1M      0  0:01:10  0:00:18  0:00:52 11.0M\n",
      " 26  786M   26  212M    0     0  11.1M      0  0:01:10  0:00:19  0:00:51 10.9M\n",
      " 28  786M   28  223M    0     0  11.1M      0  0:01:10  0:00:20  0:00:50 11.0M\n",
      " 29  786M   29  234M    0     0  11.1M      0  0:01:10  0:00:21  0:00:49 10.9M\n",
      " 30  786M   30  242M    0     0  11.0M      0  0:01:11  0:00:22  0:00:49 10.4M\n",
      " 32  786M   32  253M    0     0  11.0M      0  0:01:11  0:00:23  0:00:48 10.4M\n",
      " 33  786M   33  264M    0     0  11.0M      0  0:01:11  0:00:24  0:00:47 10.5M\n",
      " 35  786M   35  275M    0     0  11.0M      0  0:01:11  0:00:25  0:00:46 10.4M\n",
      " 36  786M   36  286M    0     0  11.0M      0  0:01:11  0:00:26  0:00:45 10.4M\n",
      " 37  786M   37  297M    0     0  11.0M      0  0:01:11  0:00:27  0:00:44 10.9M\n",
      " 39  786M   39  308M    0     0  11.0M      0  0:01:11  0:00:28  0:00:43 10.9M\n",
      " 40  786M   40  319M    0     0  11.0M      0  0:01:11  0:00:29  0:00:42 11.0M\n",
      " 42  786M   42  330M    0     0  11.0M      0  0:01:11  0:00:30  0:00:41 11.0M\n",
      " 43  786M   43  341M    0     0  11.0M      0  0:01:11  0:00:31  0:00:40 11.0M\n",
      " 44  786M   44  352M    0     0  11.0M      0  0:01:11  0:00:32  0:00:39 11.0M\n",
      " 46  786M   46  363M    0     0  11.0M      0  0:01:11  0:00:33  0:00:38 11.0M\n",
      " 47  786M   47  374M    0     0  11.0M      0  0:01:11  0:00:34  0:00:37 10.9M\n",
      " 49  786M   49  386M    0     0  11.0M      0  0:01:11  0:00:35  0:00:36 11.0M\n",
      " 50  786M   50  397M    0     0  11.0M      0  0:01:11  0:00:36  0:00:35 11.0M\n",
      " 51  786M   51  408M    0     0  11.0M      0  0:01:11  0:00:37  0:00:34 11.0M\n",
      " 53  786M   53  418M    0     0  11.0M      0  0:01:11  0:00:38  0:00:33 11.0M\n",
      " 54  786M   54  430M    0     0  11.0M      0  0:01:11  0:00:39  0:00:32 11.0M\n",
      " 56  786M   56  441M    0     0  11.0M      0  0:01:11  0:00:40  0:00:31 11.0M\n",
      " 57  786M   57  452M    0     0  11.0M      0  0:01:11  0:00:41  0:00:30 11.0M\n",
      " 58  786M   58  463M    0     0  11.0M      0  0:01:11  0:00:42  0:00:29 10.9M\n",
      " 60  786M   60  473M    0     0  11.0M      0  0:01:11  0:00:43  0:00:28 10.9M\n",
      " 61  786M   61  482M    0     0  10.9M      0  0:01:11  0:00:44  0:00:27 10.5M\n",
      " 62  786M   62  493M    0     0  10.9M      0  0:01:11  0:00:45  0:00:26 10.5M\n",
      " 64  786M   64  504M    0     0  10.9M      0  0:01:11  0:00:46  0:00:25 10.5M\n",
      " 65  786M   65  515M    0     0  10.9M      0  0:01:11  0:00:47  0:00:24 10.5M\n",
      " 66  786M   66  526M    0     0  10.9M      0  0:01:11  0:00:48  0:00:23 10.5M\n",
      " 68  786M   68  537M    0     0  10.9M      0  0:01:11  0:00:49  0:00:22 10.9M\n",
      " 69  786M   69  548M    0     0  10.9M      0  0:01:11  0:00:50  0:00:21 11.0M\n",
      " 71  786M   71  559M    0     0  10.9M      0  0:01:11  0:00:51  0:00:20 10.9M\n",
      " 72  786M   72  570M    0     0  10.9M      0  0:01:11  0:00:52  0:00:19 10.9M\n",
      " 73  786M   73  581M    0     0  10.9M      0  0:01:11  0:00:53  0:00:18 10.9M\n",
      " 75  786M   75  592M    0     0  10.9M      0  0:01:11  0:00:54  0:00:17 10.9M\n",
      " 76  786M   76  603M    0     0  10.9M      0  0:01:11  0:00:55  0:00:16 10.8M\n",
      " 78  786M   78  614M    0     0  10.9M      0  0:01:11  0:00:56  0:00:15 10.8M\n",
      " 79  786M   79  625M    0     0  10.9M      0  0:01:11  0:00:57  0:00:14 10.9M\n",
      " 80  786M   80  635M    0     0  10.9M      0  0:01:11  0:00:58  0:00:13 10.9M\n",
      " 82  786M   82  647M    0     0  10.9M      0  0:01:11  0:00:59  0:00:12 10.9M\n",
      " 83  786M   83  658M    0     0  10.9M      0  0:01:11  0:01:00  0:00:11 10.9M\n",
      " 85  786M   85  669M    0     0  10.9M      0  0:01:11  0:01:01  0:00:10 11.0M\n",
      " 86  786M   86  680M    0     0  10.9M      0  0:01:11  0:01:02  0:00:09 10.9M\n",
      " 87  786M   87  688M    0     0  10.9M      0  0:01:11  0:01:03  0:00:08 10.5M\n",
      " 88  786M   88  699M    0     0  10.9M      0  0:01:11  0:01:04  0:00:07 10.5M\n",
      " 90  786M   90  710M    0     0  10.9M      0  0:01:11  0:01:05  0:00:06 10.5M\n",
      " 91  786M   91  721M    0     0  10.9M      0  0:01:11  0:01:06  0:00:05 10.4M\n",
      " 93  786M   93  732M    0     0  10.9M      0  0:01:11  0:01:07  0:00:04 10.4M\n",
      " 94  786M   94  743M    0     0  10.9M      0  0:01:11  0:01:08  0:00:03 10.9M\n",
      " 95  786M   95  754M    0     0  10.9M      0  0:01:11  0:01:09  0:00:02 11.0M\n",
      " 97  786M   97  765M    0     0  10.9M      0  0:01:11  0:01:10  0:00:01 11.0M\n",
      " 98  786M   98  776M    0     0  10.9M      0  0:01:11  0:01:11 --:--:-- 10.9M\n",
      "100  786M  100  786M    0     0  10.9M      0  0:01:12  0:01:12 --:--:-- 11.0M\n"
     ]
    }
   ],
   "source": [
    "!curl -O https://download.microsoft.com/download/3/E/1/3E1C3F21-ECDB-4869-8368-6DEBA77B919F/kagglecatsanddogs_3367a.zip"
   ]
  },
  {
   "cell_type": "markdown",
   "metadata": {},
   "source": [
    "## Mac version"
   ]
  },
  {
   "cell_type": "code",
   "execution_count": 71,
   "metadata": {},
   "outputs": [
    {
     "name": "stdout",
     "output_type": "stream",
     "text": [
      "replace MSR-LA - 3467.docx? [y]es, [n]o, [A]ll, [N]one, [r]ename: ^C\n",
      "Classification_tutorial.ipynb README.md\n",
      "\u001b[34mDebugs\u001b[m\u001b[m                        Untitled.ipynb\n",
      "MSR-LA - 3467.docx            kagglecatsanddogs_3367a.zip\n",
      "\u001b[34mPetImages\u001b[m\u001b[m                     readme[1].txt\n"
     ]
    }
   ],
   "source": [
    "!unzip -q kagglecatsanddogs_3367a.zip\n",
    "!ls"
   ]
  },
  {
   "cell_type": "markdown",
   "metadata": {},
   "source": [
    "## Windows version"
   ]
  },
  {
   "cell_type": "code",
   "execution_count": 8,
   "metadata": {},
   "outputs": [
    {
     "name": "stdout",
     "output_type": "stream",
     "text": [
      " Volume in drive C has no label.\n",
      " Volume Serial Number is 6077-5E3A\n",
      "\n",
      " Directory of C:\\Users\\offmr\\Documents\\DSTI\\Python_ML_LAB\\Oct16\\repos\\211016_PL_Images\n",
      "\n",
      "10/16/2021  12:33 PM    <DIR>          .\n",
      "10/16/2021  12:33 PM    <DIR>          ..\n",
      "10/16/2021  12:26 PM    <DIR>          .ipynb_checkpoints\n",
      "10/16/2021  12:32 PM            16,141 Classification_tutorial.ipynb\n",
      "10/16/2021  12:33 PM       824,894,548 kagglecatsanddogs_3367a.zip\n",
      "02/10/2017  10:55 AM            35,545 MSR-LA - 3467.docx\n",
      "10/16/2021  12:33 PM    <DIR>          PetImages\n",
      "10/16/2021  10:21 AM                74 README.md\n",
      "02/10/2017  10:51 AM               104 readme[1].txt\n",
      "               5 File(s)    824,946,412 bytes\n",
      "               4 Dir(s)  787,339,558,912 bytes free\n"
     ]
    }
   ],
   "source": [
    "# test if directory exist\n",
    "# use subprocess or zipfile package in pure python\n",
    "dirToTest = \"PetImages\"\n",
    "if os.path.isdir(dirToTest) == False :\n",
    "    !tar.exe -xf kagglecatsanddogs_3367a.zip \n",
    "else:\n",
    "    !tar.exe -rf kagglecatsanddogs_3367a.zip\n",
    "\n",
    "!dir"
   ]
  },
  {
   "cell_type": "markdown",
   "metadata": {},
   "source": [
    "Check to see the folders unzipped correctly.  Here we have two folders labelled 'Cats' and 'Dogs', which are the classes we will be using to classify"
   ]
  },
  {
   "cell_type": "markdown",
   "metadata": {},
   "source": [
    "## Filter out corrupted images\n",
    "\n",
    "When working with lots of real-world image data, corrupted images are a common occurence. Let's filter out badly-encoded images that do not feature the string \"JFIF\" in their header."
   ]
  },
  {
   "cell_type": "code",
   "execution_count": 9,
   "metadata": {},
   "outputs": [],
   "source": [
    "def getSubDirs(inputDir): #Function that gives the list of subdirectories\n",
    "\n",
    "    rClasseList =[] #Empty list of subdirectories\n",
    "\n",
    "    for fname in os.listdir(inputDir): #Go over all elements in the directory\n",
    "        fpath = os.path.join(inputDir, fname) #Create full path to each element\n",
    "        if os.path.isdir(fpath): #Check if it is a directory or not.\n",
    "            rClasseList.append(fname) #If it is a directory add it to the list\n",
    "\n",
    "    return rClasseList"
   ]
  },
  {
   "cell_type": "code",
   "execution_count": 10,
   "metadata": {},
   "outputs": [
    {
     "data": {
      "text/plain": [
       "['Cat', 'Dog']"
      ]
     },
     "execution_count": 10,
     "metadata": {},
     "output_type": "execute_result"
    }
   ],
   "source": [
    "getSubDirs (\"./PetImages\")"
   ]
  },
  {
   "cell_type": "markdown",
   "metadata": {},
   "source": [
    "We have two categories Cat and Dog"
   ]
  },
  {
   "cell_type": "code",
   "execution_count": 11,
   "metadata": {},
   "outputs": [],
   "source": [
    "def count_files (inputDir):\n",
    "    classes = getSubDirs (inputDir)\n",
    "    \n",
    "    for folder_name in classes: #look through folders that have the names of classes\n",
    "        folder_path = os.path.join(inputDir, folder_name) \n",
    "        path, dirs, files = next(os.walk(folder_path))\n",
    "        file_count = len(files)\n",
    "        # print (folder_name, 'contains ', file_count, ' files') #This is one way to do it\n",
    "        print (f'{folder_name} contains {file_count} files') #This another.\n",
    "    "
   ]
  },
  {
   "cell_type": "code",
   "execution_count": 75,
   "metadata": {},
   "outputs": [
    {
     "name": "stdout",
     "output_type": "stream",
     "text": [
      "Cat contains 12501 files\n",
      "Dog contains 12501 files\n"
     ]
    }
   ],
   "source": [
    "count_files (\"./PetImages\")"
   ]
  },
  {
   "cell_type": "markdown",
   "metadata": {},
   "source": [
    "## delete_corrupt files (function)"
   ]
  },
  {
   "cell_type": "code",
   "execution_count": 15,
   "metadata": {},
   "outputs": [],
   "source": [
    "def delete_corrupt (input_dir):\n",
    "    classes= getSubDirs (input_dir)\n",
    "    print (classes)\n",
    "    num_skipped = 0  #defines the counter of photos deleted\n",
    "    \n",
    "    for folder_name in tqdm.tqdm(classes) :  #look through folders that have the names of classes\n",
    "        folder_path = os.path.join(input_dir, folder_name) #it creates folderpath for classes in the given folder\n",
    "        for fname in os.listdir(folder_path): # fnmane is just the \"counter\" or local variable (like an i).\n",
    "            #This line will combine the file name to the directory path.  The \"glob2\" lists files and folders etc.\n",
    "            fpath = os.path.join(folder_path, fname) #Combines folder path and file name\n",
    "            try:\n",
    "                fobj = open(fpath, \"rb\") #Opens file.  The \"rb\" command opens the file in binary mode. Use this with images.\n",
    "                is_jfif = tf.compat.as_bytes(\"JFIF\") in fobj.peek(10) #Look at the first ten bytes of the fiel,\n",
    "                                                                        #where the marker is to be found\n",
    "            finally:\n",
    "                fobj.close()\n",
    "\n",
    "            if not is_jfif:\n",
    "                num_skipped += 1\n",
    "                # Delete corrupted image\n",
    "                os.remove(fpath)\n",
    "\n",
    "    print(\"Deleted %d images\" % num_skipped)\n",
    "    "
   ]
  },
  {
   "cell_type": "markdown",
   "metadata": {},
   "source": [
    "[Check this for more information](https://stackoverflow.com/questions/62220855/tensorflow-removing-jfif)"
   ]
  },
  {
   "cell_type": "code",
   "execution_count": 16,
   "metadata": {},
   "outputs": [
    {
     "name": "stdout",
     "output_type": "stream",
     "text": [
      "['Cat', 'Dog']\n"
     ]
    },
    {
     "name": "stderr",
     "output_type": "stream",
     "text": [
      "100%|████████████████████████████████████████████████████████████████████████████████████| 2/2 [00:01<00:00,  1.69it/s]"
     ]
    },
    {
     "name": "stdout",
     "output_type": "stream",
     "text": [
      "Deleted 0 images\n"
     ]
    },
    {
     "name": "stderr",
     "output_type": "stream",
     "text": [
      "\n"
     ]
    }
   ],
   "source": [
    "delete_corrupt ('./PetImages')"
   ]
  },
  {
   "cell_type": "code",
   "execution_count": 17,
   "metadata": {},
   "outputs": [
    {
     "name": "stdout",
     "output_type": "stream",
     "text": [
      "Cat contains 11749 files\n",
      "Dog contains 11675 files\n"
     ]
    }
   ],
   "source": [
    "count_files (\"./PetImages\")"
   ]
  },
  {
   "cell_type": "markdown",
   "metadata": {},
   "source": [
    "## Generate the Dataset"
   ]
  },
  {
   "cell_type": "code",
   "execution_count": 21,
   "metadata": {},
   "outputs": [],
   "source": [
    "def generateDataset (pInputDir, pValidation_split, pImage_size, pBatch_size):\n",
    "    \"\"\"\n",
    "        pInputDir : input directorywhere the subdirs are presents\n",
    "        pValidation_split : validation_split param 0.x format\n",
    "        pImage_size : image_size param (x,y) format\n",
    "        pBatch_size : batch_size param , set of images\n",
    "    \"\"\"\n",
    "   \n",
    "    train_ds = tf.keras.preprocessing.image_dataset_from_directory(\n",
    "        pInputDir,\n",
    "        validation_split=pValidation_split,\n",
    "        subset=\"training\",\n",
    "        seed=1337,\n",
    "        image_size=pImage_size,\n",
    "        batch_size=pBatch_size,\n",
    "    )\n",
    "    val_ds = tf.keras.preprocessing.image_dataset_from_directory(\n",
    "        pInputDir,\n",
    "        validation_split=pValidation_split,\n",
    "        subset=\"validation\",\n",
    "        seed=1337,\n",
    "        image_size=pImage_size,\n",
    "        batch_size=pBatch_size,\n",
    "    )\n",
    "    \n",
    "    return train_ds, val_ds"
   ]
  },
  {
   "cell_type": "markdown",
   "metadata": {},
   "source": [
    "## test the dataset generation"
   ]
  },
  {
   "cell_type": "code",
   "execution_count": 22,
   "metadata": {},
   "outputs": [
    {
     "name": "stdout",
     "output_type": "stream",
     "text": [
      "Found 23422 files belonging to 2 classes.\n",
      "Using 18738 files for training.\n",
      "Found 23422 files belonging to 2 classes.\n",
      "Using 4684 files for validation.\n"
     ]
    }
   ],
   "source": [
    "image_size = (180, 180)\n",
    "batch_size = 32\n",
    "inputDir=\"PetImages\"\n",
    "validation_split=0.2\n",
    "\n",
    "to_train_ds, validation_ds = generateDataset (inputDir,validation_split, image_size, batch_size  )"
   ]
  },
  {
   "cell_type": "markdown",
   "metadata": {},
   "source": [
    "## print out 1st element into to_train_ds (Training Set)"
   ]
  },
  {
   "cell_type": "code",
   "execution_count": 51,
   "metadata": {
    "scrolled": false
   },
   "outputs": [
    {
     "name": "stdout",
     "output_type": "stream",
     "text": [
      "(<tf.Tensor: shape=(32, 180, 180, 3), dtype=float32, numpy=\n",
      "array([[[[ 11.875    ,  10.875    ,   5.875    ],\n",
      "         [ 19.638542 ,  18.638542 ,  13.638541 ],\n",
      "         [ 19.125    ,  18.125    ,  13.125    ],\n",
      "         ...,\n",
      "         [123.00625  , 106.76979  ,  93.61771  ],\n",
      "         [ 47.64479  ,  38.39479  ,  31.519793 ],\n",
      "         [ 73.0875   ,  61.5875   ,  51.9625   ]],\n",
      "\n",
      "        [[ 11.55     ,  10.55     ,   5.55     ],\n",
      "         [ 19.425    ,  18.425    ,  13.425    ],\n",
      "         [ 18.8      ,  17.8      ,  12.8      ],\n",
      "         ...,\n",
      "         [123.19375  , 107.06875  ,  93.69375  ],\n",
      "         [ 44.734375 ,  35.484375 ,  28.609375 ],\n",
      "         [ 71.34375  ,  59.84375  ,  50.21875  ]],\n",
      "\n",
      "        [[ 10.875    ,   9.875    ,   4.875    ],\n",
      "         [ 18.75     ,  17.75     ,  12.75     ],\n",
      "         [ 18.125    ,  17.125    ,  12.125    ],\n",
      "         ...,\n",
      "         [130.45833  , 114.197914 , 100.890625 ],\n",
      "         [ 42.21875  ,  33.036457 ,  25.958334 ],\n",
      "         [ 71.041664 ,  58.526043 ,  48.833332 ]],\n",
      "\n",
      "        ...,\n",
      "\n",
      "        [[ 36.916687 ,  25.916687 ,  23.916687 ],\n",
      "         [ 36.458344 ,  25.458344 ,  23.458344 ],\n",
      "         [ 36.515636 ,  25.515636 ,  23.515636 ],\n",
      "         ...,\n",
      "         [145.64067  , 142.26564  , 145.72398  ],\n",
      "         [158.97914  , 156.97914  , 161.97914  ],\n",
      "         [139.7708   , 137.7708   , 142.7708   ]],\n",
      "\n",
      "        [[ 38.       ,  27.       ,  25.       ],\n",
      "         [ 37.       ,  26.       ,  24.       ],\n",
      "         [ 37.125    ,  26.125    ,  24.125    ],\n",
      "         ...,\n",
      "         [ 97.58727  ,  92.58727  ,  96.58727  ],\n",
      "         [153.65936  , 151.65936  , 156.65936  ],\n",
      "         [130.78748  , 128.78748  , 133.78748  ]],\n",
      "\n",
      "        [[ 38.       ,  27.       ,  25.       ],\n",
      "         [ 37.       ,  26.       ,  24.       ],\n",
      "         [ 37.125    ,  26.125    ,  24.125    ],\n",
      "         ...,\n",
      "         [ 47.070503 ,  41.959045 ,  45.959045 ],\n",
      "         [147.0687   , 145.0687   , 150.0687   ],\n",
      "         [120.353035 , 118.353035 , 123.353035 ]]],\n",
      "\n",
      "\n",
      "       [[[131.08333  , 113.083336 , 109.083336 ],\n",
      "         [131.20834  , 112.541664 , 108.541664 ],\n",
      "         [131.45833  , 112.458336 , 108.458336 ],\n",
      "         ...,\n",
      "         [129.73601  , 132.06938  , 133.62492  ],\n",
      "         [143.37497  , 138.70834  , 139.37503  ],\n",
      "         [143.29634  , 135.29634  , 133.29634  ]],\n",
      "\n",
      "        [[128.16667  , 113.16667  , 110.16667  ],\n",
      "         [130.375    , 112.375    , 110.375    ],\n",
      "         [131.45833  , 111.458336 , 110.458336 ],\n",
      "         ...,\n",
      "         [115.99991  , 119.9305   , 120.86104  ],\n",
      "         [134.58315  , 131.2499   , 131.91658  ],\n",
      "         [141.33334  , 133.33334  , 131.33334  ]],\n",
      "\n",
      "        [[116.638885 , 101.638885 ,  98.638885 ],\n",
      "         [123.736115 , 108.736115 , 105.736115 ],\n",
      "         [131.73611  , 113.73611  , 111.73611  ],\n",
      "         ...,\n",
      "         [108.09717  , 114.717575 , 114.56478  ],\n",
      "         [126.59697  , 126.013756 , 125.77762  ],\n",
      "         [139.37035  , 130.37035  , 131.37035  ]],\n",
      "\n",
      "        ...,\n",
      "\n",
      "        [[129.88885  , 139.88885  , 140.88885  ],\n",
      "         [143.88884  , 153.88884  , 154.88884  ],\n",
      "         [139.02316  , 148.02316  , 147.02316  ],\n",
      "         ...,\n",
      "         [140.44446  , 158.44446  , 158.44446  ],\n",
      "         [137.37503  , 155.37503  , 155.37503  ],\n",
      "         [142.11108  , 160.11108  , 160.11108  ]],\n",
      "\n",
      "        [[134.19444  , 144.19444  , 145.19444  ],\n",
      "         [147.375    , 157.375    , 158.375    ],\n",
      "         [138.33333  , 147.33333  , 146.33333  ],\n",
      "         ...,\n",
      "         [136.59724  , 154.59724  , 154.59724  ],\n",
      "         [134.04163  , 152.04163  , 152.04163  ],\n",
      "         [141.73608  , 159.73608  , 159.73608  ]],\n",
      "\n",
      "        [[135.31946  , 145.31946  , 146.31946  ],\n",
      "         [142.45831  , 152.45831  , 153.45831  ],\n",
      "         [140.88423  , 149.88423  , 148.88423  ],\n",
      "         ...,\n",
      "         [130.08337  , 148.08337  , 148.08337  ],\n",
      "         [132.7916   , 150.7916   , 150.7916   ],\n",
      "         [141.11108  , 159.11108  , 159.11108  ]]],\n",
      "\n",
      "\n",
      "       [[[ 94.       ,  76.       ,  36.       ],\n",
      "         [ 94.       ,  76.       ,  36.       ],\n",
      "         [ 94.       ,  76.       ,  36.       ],\n",
      "         ...,\n",
      "         [ 99.541664 ,  80.541664 ,  37.541668 ],\n",
      "         [ 98.87504  ,  80.541664 ,  37.541668 ],\n",
      "         [ 97.541664 ,  80.541664 ,  37.541668 ]],\n",
      "\n",
      "        [[ 94.       ,  76.       ,  36.       ],\n",
      "         [ 94.       ,  76.       ,  36.       ],\n",
      "         [ 94.       ,  76.       ,  36.       ],\n",
      "         ...,\n",
      "         [100.       ,  81.       ,  38.       ],\n",
      "         [ 99.333374 ,  81.       ,  38.       ],\n",
      "         [ 98.       ,  81.       ,  38.       ]],\n",
      "\n",
      "        [[ 94.       ,  76.       ,  36.       ],\n",
      "         [ 94.       ,  76.       ,  36.       ],\n",
      "         [ 94.       ,  76.       ,  36.       ],\n",
      "         ...,\n",
      "         [101.       ,  82.       ,  39.       ],\n",
      "         [100.333374 ,  82.       ,  39.       ],\n",
      "         [ 99.       ,  82.       ,  39.       ]],\n",
      "\n",
      "        ...,\n",
      "\n",
      "        [[ 83.44444  ,  71.333336 ,  31.11111  ],\n",
      "         [ 62.666668 ,  55.       ,  26.666668 ],\n",
      "         [ 18.171307 ,  16.504639 ,   3.7268593],\n",
      "         ...,\n",
      "         [  3.8703709,   4.870371 ,   0.       ],\n",
      "         [  4.097213 ,   6.097213 ,   2.4304647],\n",
      "         [  3.0323985,   7.032398 ,   6.032398 ]],\n",
      "\n",
      "        [[ 82.513885 ,  70.40278  ,  30.180555 ],\n",
      "         [ 62.083336 ,  54.416668 ,  26.083334 ],\n",
      "         [ 17.333338 ,  15.66667  ,   3.333335 ],\n",
      "         ...,\n",
      "         [  3.       ,   4.       ,   0.       ],\n",
      "         [  4.0833054,   6.0833054,   2.4165573],\n",
      "         [  4.       ,   8.       ,   7.       ]],\n",
      "\n",
      "        [[ 82.037056 ,  69.92594  ,  29.703722 ],\n",
      "         [ 61.513897 ,  53.84723  ,  25.513897 ],\n",
      "         [ 16.333338 ,  14.66667  ,   2.777779 ],\n",
      "         ...,\n",
      "         [  2.3009298,   3.3009298,   0.       ],\n",
      "         [  3.8471494,   5.8471494,   2.4859526],\n",
      "         [  3.9490888,   7.9490886,   6.9490886]]],\n",
      "\n",
      "\n",
      "       ...,\n",
      "\n",
      "\n",
      "       [[[159.47223  , 157.47223  , 144.47223  ],\n",
      "         [160.18889  , 158.18889  , 145.18889  ],\n",
      "         [160.66666  , 158.66666  , 145.66666  ],\n",
      "         ...,\n",
      "         [122.30556  , 123.30556  , 118.30556  ],\n",
      "         [122.714806 , 123.43148  , 119.281456 ],\n",
      "         [123.75     , 123.75     , 121.75     ]],\n",
      "\n",
      "        [[ 85.916664 ,  83.916664 ,  70.916664 ],\n",
      "         [ 86.334724 ,  84.334724 ,  71.334724 ],\n",
      "         [ 86.69444  ,  84.69444  ,  71.69444  ],\n",
      "         ...,\n",
      "         [ 19.583332 ,  20.583332 ,  15.583332 ],\n",
      "         [ 19.370838 ,  20.087513 ,  15.937489 ],\n",
      "         [ 18.833332 ,  18.833332 ,  16.833332 ]],\n",
      "\n",
      "        [[ 89.25     ,  87.25     ,  74.25     ],\n",
      "         [ 89.25     ,  87.25     ,  74.25     ],\n",
      "         [ 89.30941  ,  87.30941  ,  74.30941  ],\n",
      "         ...,\n",
      "         [  9.222222 ,  10.222222 ,   5.2222223],\n",
      "         [  9.505548 ,  10.222222 ,   6.072198 ],\n",
      "         [ 10.222222 ,  10.222222 ,   8.222222 ]],\n",
      "\n",
      "        ...,\n",
      "\n",
      "        [[ 24.592136 ,  29.592136 ,   6.592137 ],\n",
      "         [ 38.472694 ,  43.472694 ,  21.189362 ],\n",
      "         [ 49.719154 ,  55.302486 ,  33.496933 ],\n",
      "         ...,\n",
      "         [ 43.01652  ,  54.48486  ,  22.383156 ],\n",
      "         [ 67.82458  ,  82.43569  ,  46.130135 ],\n",
      "         [ 44.93308  ,  61.06641  ,  23.999744 ]],\n",
      "\n",
      "        [[ 28.315271 ,  33.31527  ,  10.315271 ],\n",
      "         [ 39.67641  ,  44.67641  ,  22.39308  ],\n",
      "         [ 51.958363 ,  57.541695 ,  35.736137 ],\n",
      "         ...,\n",
      "         [ 61.21938  ,  75.91609  ,  40.91614  ],\n",
      "         [ 62.75989  ,  79.926544 ,  42.34322  ],\n",
      "         [ 30.752922 ,  49.885773 ,  11.541334 ]],\n",
      "\n",
      "        [[ 27.127771 ,  32.12777  ,   9.127771 ],\n",
      "         [ 30.49025  ,  35.49025  ,  13.206917 ],\n",
      "         [ 41.510773 ,  47.094105 ,  25.28855  ],\n",
      "         ...,\n",
      "         [ 67.50898  ,  83.28751  ,  47.870888 ],\n",
      "         [ 39.91863  ,  58.650555 ,  20.406578 ],\n",
      "         [ 14.541348 ,  35.44181  ,   1.7182035]]],\n",
      "\n",
      "\n",
      "       [[[170.84352  , 173.84352  , 182.84352  ],\n",
      "         [168.25     , 171.25     , 180.25     ],\n",
      "         [167.13889  , 170.13889  , 179.13889  ],\n",
      "         ...,\n",
      "         [112.73612  ,  90.73612  ,  69.73612  ],\n",
      "         [110.275    ,  89.836075 ,  67.836136 ],\n",
      "         [110.646286 ,  92.646286 ,  68.646286 ]],\n",
      "\n",
      "        [[162.40555  , 165.40555  , 174.40555  ],\n",
      "         [159.74167  , 162.74167  , 171.74167  ],\n",
      "         [158.63055  , 161.63055  , 170.63055  ],\n",
      "         ...,\n",
      "         [110.01111  ,  88.01111  ,  67.01111  ],\n",
      "         [105.033455 ,  85.033394 ,  63.70008  ],\n",
      "         [103.24439  ,  87.22217  ,  64.28883  ]],\n",
      "\n",
      "        [[163.88426  , 166.88426  , 175.88426  ],\n",
      "         [161.25     , 164.25     , 173.25     ],\n",
      "         [160.13889  , 163.13889  , 172.13889  ],\n",
      "         ...,\n",
      "         [107.61113  ,  85.61113  ,  64.61113  ],\n",
      "         [103.7362   ,  83.97224  ,  63.111115 ],\n",
      "         [100.56942  ,  85.018486 ,  65.47225  ]],\n",
      "\n",
      "        ...,\n",
      "\n",
      "        [[194.74075  , 193.74075  , 198.74075  ],\n",
      "         [192.33333  , 191.33333  , 196.33333  ],\n",
      "         [190.16203  , 189.16203  , 194.16203  ],\n",
      "         ...,\n",
      "         [147.       , 152.       , 156.       ],\n",
      "         [146.43059  , 151.43059  , 155.43059  ],\n",
      "         [148.95816  , 153.95816  , 157.95816  ]],\n",
      "\n",
      "        [[194.00278  , 193.00278  , 198.00278  ],\n",
      "         [192.33333  , 191.33333  , 196.33333  ],\n",
      "         [190.98888  , 189.98888  , 194.98888  ],\n",
      "         ...,\n",
      "         [147.       , 152.       , 156.       ],\n",
      "         [146.99165  , 151.99165  , 155.99165  ],\n",
      "         [149.77481  , 154.77481  , 158.77481  ]],\n",
      "\n",
      "        [[193.34167  , 192.34167  , 197.34167  ],\n",
      "         [192.33333  , 191.33333  , 196.33333  ],\n",
      "         [191.65833  , 190.65833  , 195.65833  ],\n",
      "         ...,\n",
      "         [147.       , 152.       , 156.       ],\n",
      "         [146.78058  , 151.78058  , 155.78058  ],\n",
      "         [149.11926  , 154.11926  , 158.11926  ]]],\n",
      "\n",
      "\n",
      "       [[[166.55556  , 162.55556  , 178.74074  ],\n",
      "         [176.25     , 173.06944  , 184.61111  ],\n",
      "         [179.98611  , 176.98611  , 184.58797  ],\n",
      "         ...,\n",
      "         [ 94.79171  , 101.79171  ,  94.79171  ],\n",
      "         [ 94.61107  , 101.277756 ,  95.58323  ],\n",
      "         [ 97.111084 , 103.111084 , 101.111084 ]],\n",
      "\n",
      "        [[170.27777  , 166.27777  , 183.27777  ],\n",
      "         [179.04167  , 175.29167  , 188.75     ],\n",
      "         [193.13889  , 190.13889  , 200.38889  ],\n",
      "         ...,\n",
      "         [ 94.583374 , 101.583374 ,  93.583374 ],\n",
      "         [ 94.58329  , 101.24998  ,  95.249916 ],\n",
      "         [ 97.111084 , 103.111084 , 101.111084 ]],\n",
      "\n",
      "        [[174.90277  , 171.90277  , 188.90277  ],\n",
      "         [184.98611  , 182.98611  , 196.79167  ],\n",
      "         [202.35185  , 200.35185  , 214.06018  ],\n",
      "         ...,\n",
      "         [ 96.57409  , 103.57409  ,  95.57409  ],\n",
      "         [ 97.333374 , 104.00006  ,  98.       ],\n",
      "         [ 97.111084 , 103.111084 , 101.111084 ]],\n",
      "\n",
      "        ...,\n",
      "\n",
      "        [[164.81946  , 174.81946  , 184.81946  ],\n",
      "         [163.08336  , 173.08336  , 182.41669  ],\n",
      "         [160.84262  , 171.84262  , 176.95374  ],\n",
      "         ...,\n",
      "         [ 99.2824   , 117.17132  , 110.94915  ],\n",
      "         [102.9445   , 122.277756 , 110.277756 ],\n",
      "         [100.41669  , 124.41669  , 111.41669  ]],\n",
      "\n",
      "        [[162.88889  , 172.88889  , 182.88889  ],\n",
      "         [159.625    , 169.625    , 178.95833  ],\n",
      "         [155.36111  , 166.36111  , 171.47223  ],\n",
      "         ...,\n",
      "         [ 98.37512  , 116.26404  , 110.04187  ],\n",
      "         [101.2083   , 120.54155  , 108.54155  ],\n",
      "         [101.375    , 125.375    , 112.375    ]],\n",
      "\n",
      "        [[163.68054  , 173.68054  , 183.68054  ],\n",
      "         [158.33333  , 168.33333  , 177.66667  ],\n",
      "         [152.41205  , 163.41205  , 168.52316  ],\n",
      "         ...,\n",
      "         [113.35661  , 131.24553  , 125.02336  ],\n",
      "         [102.097206 , 121.43046  , 109.43046  ],\n",
      "         [100.54169  , 124.54169  , 111.54169  ]]]], dtype=float32)>, <tf.Tensor: shape=(32,), dtype=int32, numpy=\n",
      "array([1, 0, 1, 1, 1, 1, 0, 0, 1, 1, 1, 1, 0, 1, 0, 0, 0, 0, 0, 0, 0, 1,\n",
      "       0, 1, 0, 1, 1, 0, 0, 1, 0, 0])>)\n",
      "Tensor of 1st element \n",
      " (32, 180, 180, 3)\n"
     ]
    }
   ],
   "source": [
    "for element in to_train_ds:\n",
    "    # show 1 element\n",
    "    print(element)\n",
    "    # show the tensor part of the 1st element element\n",
    "    print(\"Tensor of 1st element \\n\" , element[0].shape)\n",
    "    \n",
    "    # do not iterate over the full dataset it is too big\n",
    "    break"
   ]
  },
  {
   "cell_type": "markdown",
   "metadata": {},
   "source": [
    "## show first image of the batch of 32"
   ]
  },
  {
   "cell_type": "code",
   "execution_count": 52,
   "metadata": {},
   "outputs": [
    {
     "data": {
      "text/plain": [
       "<matplotlib.image.AxesImage at 0x184e9099e50>"
      ]
     },
     "execution_count": 52,
     "metadata": {},
     "output_type": "execute_result"
    },
    {
     "data": {
      "image/png": "[encoded data removed]",
      "text/plain": [
       "<Figure size 720x720 with 1 Axes>"
      ]
     },
     "metadata": {
      "needs_background": "light"
     },
     "output_type": "display_data"
    }
   ],
   "source": [
    "\n",
    "# display image\n",
    "plt.figure(figsize=(10, 10))  # image size\n",
    "plt.axis(\"off\")               # remove axis\n",
    "plt.imshow(element[0][0].numpy().astype(\"uint8\"))  #need to convert to int unsigned integer 8 \n",
    "\n",
    "## try with  .take\n"
   ]
  },
  {
   "cell_type": "code",
   "execution_count": null,
   "metadata": {},
   "outputs": [],
   "source": []
  }
 ],
 "metadata": {
  "kernelspec": {
   "display_name": "Python 3",
   "language": "python",
   "name": "python3"
  },
  "language_info": {
   "codemirror_mode": {
    "name": "ipython",
    "version": 3
   },
   "file_extension": ".py",
   "mimetype": "text/x-python",
   "name": "python",
   "nbconvert_exporter": "python",
   "pygments_lexer": "ipython3",
   "version": "3.8.8"
  }
 },
 "nbformat": 4,
 "nbformat_minor": 4
}
