{
 "cells": [
  {
   "cell_type": "markdown",
   "metadata": {},
   "source": [
    "# Image classification model with TensorFlow"
   ]
  },
  {
   "cell_type": "markdown",
   "metadata": {},
   "source": [
    "[Online Tutorial](<https://keras.io/examples/vision/image_classification_from_scratch/>)"
   ]
  },
  {
   "cell_type": "markdown",
   "metadata": {},
   "source": [
    "## Installing Eseifan packages and libraries"
   ]
  },
  {
   "cell_type": "code",
   "execution_count": 4,
   "metadata": {},
   "outputs": [
    {
     "name": "stdout",
     "output_type": "stream",
     "text": [
      "Requirement already satisfied: tensorflow in c:\\users\\offmr\\anaconda3\\envs\\dsti_p1\\lib\\site-packages (2.6.0)\n",
      "Requirement already satisfied: six~=1.15.0 in c:\\users\\offmr\\anaconda3\\envs\\dsti_p1\\lib\\site-packages (from tensorflow) (1.15.0)\n",
      "Requirement already satisfied: wheel~=0.35 in c:\\users\\offmr\\anaconda3\\envs\\dsti_p1\\lib\\site-packages (from tensorflow) (0.36.2)\n",
      "Requirement already satisfied: protobuf>=3.9.2 in c:\\users\\offmr\\anaconda3\\envs\\dsti_p1\\lib\\site-packages (from tensorflow) (3.18.1)\n",
      "Requirement already satisfied: tensorflow-estimator~=2.6 in c:\\users\\offmr\\anaconda3\\envs\\dsti_p1\\lib\\site-packages (from tensorflow) (2.6.0)\n",
      "Requirement already satisfied: flatbuffers~=1.12.0 in c:\\users\\offmr\\anaconda3\\envs\\dsti_p1\\lib\\site-packages (from tensorflow) (1.12)\n",
      "Requirement already satisfied: termcolor~=1.1.0 in c:\\users\\offmr\\anaconda3\\envs\\dsti_p1\\lib\\site-packages (from tensorflow) (1.1.0)\n",
      "Requirement already satisfied: google-pasta~=0.2 in c:\\users\\offmr\\anaconda3\\envs\\dsti_p1\\lib\\site-packages (from tensorflow) (0.2.0)\n",
      "Requirement already satisfied: opt-einsum~=3.3.0 in c:\\users\\offmr\\anaconda3\\envs\\dsti_p1\\lib\\site-packages (from tensorflow) (3.3.0)\n",
      "Requirement already satisfied: absl-py~=0.10 in c:\\users\\offmr\\anaconda3\\envs\\dsti_p1\\lib\\site-packages (from tensorflow) (0.14.1)\n",
      "Requirement already satisfied: clang~=5.0 in c:\\users\\offmr\\anaconda3\\envs\\dsti_p1\\lib\\site-packages (from tensorflow) (5.0)\n",
      "Requirement already satisfied: h5py~=3.1.0 in c:\\users\\offmr\\anaconda3\\envs\\dsti_p1\\lib\\site-packages (from tensorflow) (3.1.0)\n",
      "Requirement already satisfied: astunparse~=1.6.3 in c:\\users\\offmr\\anaconda3\\envs\\dsti_p1\\lib\\site-packages (from tensorflow) (1.6.3)\n",
      "Requirement already satisfied: gast==0.4.0 in c:\\users\\offmr\\anaconda3\\envs\\dsti_p1\\lib\\site-packages (from tensorflow) (0.4.0)\n",
      "Requirement already satisfied: typing-extensions~=3.7.4 in c:\\users\\offmr\\anaconda3\\envs\\dsti_p1\\lib\\site-packages (from tensorflow) (3.7.4.3)\n",
      "Requirement already satisfied: tensorboard~=2.6 in c:\\users\\offmr\\anaconda3\\envs\\dsti_p1\\lib\\site-packages (from tensorflow) (2.7.0)\n",
      "Requirement already satisfied: numpy~=1.19.2 in c:\\users\\offmr\\anaconda3\\envs\\dsti_p1\\lib\\site-packages (from tensorflow) (1.19.5)\n",
      "Requirement already satisfied: keras~=2.6 in c:\\users\\offmr\\anaconda3\\envs\\dsti_p1\\lib\\site-packages (from tensorflow) (2.6.0)\n",
      "Requirement already satisfied: wrapt~=1.12.1 in c:\\users\\offmr\\appdata\\roaming\\python\\python38\\site-packages (from tensorflow) (1.12.1)\n",
      "Requirement already satisfied: grpcio<2.0,>=1.37.0 in c:\\users\\offmr\\anaconda3\\envs\\dsti_p1\\lib\\site-packages (from tensorflow) (1.41.0)\n",
      "Requirement already satisfied: keras-preprocessing~=1.1.2 in c:\\users\\offmr\\anaconda3\\envs\\dsti_p1\\lib\\site-packages (from tensorflow) (1.1.2)\n",
      "Requirement already satisfied: tensorboard-plugin-wit>=1.6.0 in c:\\users\\offmr\\anaconda3\\envs\\dsti_p1\\lib\\site-packages (from tensorboard~=2.6->tensorflow) (1.8.0)\n",
      "Requirement already satisfied: requests<3,>=2.21.0 in c:\\users\\offmr\\anaconda3\\envs\\dsti_p1\\lib\\site-packages (from tensorboard~=2.6->tensorflow) (2.26.0)\n",
      "Requirement already satisfied: google-auth<3,>=1.6.3 in c:\\users\\offmr\\anaconda3\\envs\\dsti_p1\\lib\\site-packages (from tensorboard~=2.6->tensorflow) (2.3.0)\n",
      "Requirement already satisfied: werkzeug>=0.11.15 in c:\\users\\offmr\\anaconda3\\envs\\dsti_p1\\lib\\site-packages (from tensorboard~=2.6->tensorflow) (2.0.2)\n",
      "Requirement already satisfied: tensorboard-data-server<0.7.0,>=0.6.0 in c:\\users\\offmr\\anaconda3\\envs\\dsti_p1\\lib\\site-packages (from tensorboard~=2.6->tensorflow) (0.6.1)\n",
      "Requirement already satisfied: google-auth-oauthlib<0.5,>=0.4.1 in c:\\users\\offmr\\anaconda3\\envs\\dsti_p1\\lib\\site-packages (from tensorboard~=2.6->tensorflow) (0.4.6)\n",
      "Requirement already satisfied: markdown>=2.6.8 in c:\\users\\offmr\\anaconda3\\envs\\dsti_p1\\lib\\site-packages (from tensorboard~=2.6->tensorflow) (3.3.4)\n",
      "Requirement already satisfied: setuptools>=41.0.0 in c:\\users\\offmr\\anaconda3\\envs\\dsti_p1\\lib\\site-packages (from tensorboard~=2.6->tensorflow) (52.0.0.post20210125)\n",
      "Requirement already satisfied: rsa<5,>=3.1.4 in c:\\users\\offmr\\anaconda3\\envs\\dsti_p1\\lib\\site-packages (from google-auth<3,>=1.6.3->tensorboard~=2.6->tensorflow) (4.7.2)\n",
      "Requirement already satisfied: pyasn1-modules>=0.2.1 in c:\\users\\offmr\\anaconda3\\envs\\dsti_p1\\lib\\site-packages (from google-auth<3,>=1.6.3->tensorboard~=2.6->tensorflow) (0.2.8)\n",
      "Requirement already satisfied: cachetools<5.0,>=2.0.0 in c:\\users\\offmr\\anaconda3\\envs\\dsti_p1\\lib\\site-packages (from google-auth<3,>=1.6.3->tensorboard~=2.6->tensorflow) (4.2.4)\n",
      "Requirement already satisfied: requests-oauthlib>=0.7.0 in c:\\users\\offmr\\anaconda3\\envs\\dsti_p1\\lib\\site-packages (from google-auth-oauthlib<0.5,>=0.4.1->tensorboard~=2.6->tensorflow) (1.3.0)\n",
      "Requirement already satisfied: pyasn1<0.5.0,>=0.4.6 in c:\\users\\offmr\\anaconda3\\envs\\dsti_p1\\lib\\site-packages (from pyasn1-modules>=0.2.1->google-auth<3,>=1.6.3->tensorboard~=2.6->tensorflow) (0.4.8)\n",
      "Requirement already satisfied: charset-normalizer~=2.0.0 in c:\\users\\offmr\\anaconda3\\envs\\dsti_p1\\lib\\site-packages (from requests<3,>=2.21.0->tensorboard~=2.6->tensorflow) (2.0.4)\n",
      "Requirement already satisfied: urllib3<1.27,>=1.21.1 in c:\\users\\offmr\\anaconda3\\envs\\dsti_p1\\lib\\site-packages (from requests<3,>=2.21.0->tensorboard~=2.6->tensorflow) (1.26.5)\n",
      "Requirement already satisfied: idna<4,>=2.5 in c:\\users\\offmr\\anaconda3\\envs\\dsti_p1\\lib\\site-packages (from requests<3,>=2.21.0->tensorboard~=2.6->tensorflow) (3.2)\n",
      "Requirement already satisfied: certifi>=2017.4.17 in c:\\users\\offmr\\anaconda3\\envs\\dsti_p1\\lib\\site-packages (from requests<3,>=2.21.0->tensorboard~=2.6->tensorflow) (2020.12.5)\n",
      "Requirement already satisfied: oauthlib>=3.0.0 in c:\\users\\offmr\\anaconda3\\envs\\dsti_p1\\lib\\site-packages (from requests-oauthlib>=0.7.0->google-auth-oauthlib<0.5,>=0.4.1->tensorboard~=2.6->tensorflow) (3.1.1)\n"
     ]
    }
   ],
   "source": [
    "!pip install tensorflow"
   ]
  },
  {
   "cell_type": "markdown",
   "metadata": {},
   "source": [
    "## Loading packages"
   ]
  },
  {
   "cell_type": "code",
   "execution_count": 5,
   "metadata": {},
   "outputs": [],
   "source": [
    "import tensorflow as tf\n",
    "from tensorflow import keras\n",
    "from tensorflow.keras import layers\n",
    "import matplotlib.pyplot as plt\n",
    "import os\n",
    "import tqdm"
   ]
  },
  {
   "cell_type": "markdown",
   "metadata": {},
   "source": [
    "## Download and open the file"
   ]
  },
  {
   "cell_type": "markdown",
   "metadata": {},
   "source": [
    "When copying from a tutorial, make sure you copy the entire cell.  For this best copy from left to right and check the results, including in your local folder, to see that files downloaded correctly."
   ]
  },
  {
   "cell_type": "code",
   "execution_count": 7,
   "metadata": {},
   "outputs": [
    {
     "name": "stderr",
     "output_type": "stream",
     "text": [
      "  % Total    % Received % Xferd  Average Speed   Time    Time     Time  Current\n",
      "                                 Dload  Upload   Total   Spent    Left  Speed\n",
      "\n",
      "  0     0    0     0    0     0      0      0 --:--:-- --:--:-- --:--:--     0\n",
      "  0  786M    0 6206k    0     0  6206k      0  0:02:09 --:--:--  0:02:09 8103k\n",
      "  2  786M    2 16.8M    0     0  16.8M      0  0:00:46  0:00:01  0:00:45 9767k\n",
      "  3  786M    3 27.8M    0     0  13.9M      0  0:00:56  0:00:02  0:00:54 10.0M\n",
      "  4  786M    4 38.7M    0     0  12.9M      0  0:01:00  0:00:03  0:00:57 10.2M\n",
      "  6  786M    6 49.9M    0     0  12.4M      0  0:01:02  0:00:04  0:00:58 10.4M\n",
      "  7  786M    7 60.7M    0     0  12.1M      0  0:01:04  0:00:05  0:00:59 10.9M\n",
      "  9  786M    9 71.7M    0     0  11.9M      0  0:01:05  0:00:06  0:00:59 10.9M\n",
      " 10  786M   10 82.7M    0     0  11.8M      0  0:01:06  0:00:07  0:00:59 10.9M\n",
      " 11  786M   11 93.7M    0     0  11.7M      0  0:01:07  0:00:08  0:00:59 10.9M\n",
      " 13  786M   13  104M    0     0  11.6M      0  0:01:07  0:00:09  0:00:58 10.9M\n",
      " 14  786M   14  115M    0     0  11.5M      0  0:01:08  0:00:10  0:00:58 10.9M\n",
      " 15  786M   15  124M    0     0  11.2M      0  0:01:09  0:00:11  0:00:58 10.4M\n",
      " 17  786M   17  135M    0     0  11.2M      0  0:01:09  0:00:12  0:00:57 10.5M\n",
      " 18  786M   18  146M    0     0  11.2M      0  0:01:09  0:00:13  0:00:56 10.4M\n",
      " 19  786M   19  157M    0     0  11.2M      0  0:01:10  0:00:14  0:00:56 10.5M\n",
      " 21  786M   21  168M    0     0  11.2M      0  0:01:10  0:00:15  0:00:55 10.5M\n",
      " 22  786M   22  179M    0     0  11.2M      0  0:01:10  0:00:16  0:00:54 11.0M\n",
      " 24  786M   24  190M    0     0  11.2M      0  0:01:10  0:00:17  0:00:53 11.0M\n",
      " 25  786M   25  201M    0     0  11.1M      0  0:01:10  0:00:18  0:00:52 11.0M\n",
      " 26  786M   26  212M    0     0  11.1M      0  0:01:10  0:00:19  0:00:51 10.9M\n",
      " 28  786M   28  223M    0     0  11.1M      0  0:01:10  0:00:20  0:00:50 11.0M\n",
      " 29  786M   29  234M    0     0  11.1M      0  0:01:10  0:00:21  0:00:49 10.9M\n",
      " 30  786M   30  242M    0     0  11.0M      0  0:01:11  0:00:22  0:00:49 10.4M\n",
      " 32  786M   32  253M    0     0  11.0M      0  0:01:11  0:00:23  0:00:48 10.4M\n",
      " 33  786M   33  264M    0     0  11.0M      0  0:01:11  0:00:24  0:00:47 10.5M\n",
      " 35  786M   35  275M    0     0  11.0M      0  0:01:11  0:00:25  0:00:46 10.4M\n",
      " 36  786M   36  286M    0     0  11.0M      0  0:01:11  0:00:26  0:00:45 10.4M\n",
      " 37  786M   37  297M    0     0  11.0M      0  0:01:11  0:00:27  0:00:44 10.9M\n",
      " 39  786M   39  308M    0     0  11.0M      0  0:01:11  0:00:28  0:00:43 10.9M\n",
      " 40  786M   40  319M    0     0  11.0M      0  0:01:11  0:00:29  0:00:42 11.0M\n",
      " 42  786M   42  330M    0     0  11.0M      0  0:01:11  0:00:30  0:00:41 11.0M\n",
      " 43  786M   43  341M    0     0  11.0M      0  0:01:11  0:00:31  0:00:40 11.0M\n",
      " 44  786M   44  352M    0     0  11.0M      0  0:01:11  0:00:32  0:00:39 11.0M\n",
      " 46  786M   46  363M    0     0  11.0M      0  0:01:11  0:00:33  0:00:38 11.0M\n",
      " 47  786M   47  374M    0     0  11.0M      0  0:01:11  0:00:34  0:00:37 10.9M\n",
      " 49  786M   49  386M    0     0  11.0M      0  0:01:11  0:00:35  0:00:36 11.0M\n",
      " 50  786M   50  397M    0     0  11.0M      0  0:01:11  0:00:36  0:00:35 11.0M\n",
      " 51  786M   51  408M    0     0  11.0M      0  0:01:11  0:00:37  0:00:34 11.0M\n",
      " 53  786M   53  418M    0     0  11.0M      0  0:01:11  0:00:38  0:00:33 11.0M\n",
      " 54  786M   54  430M    0     0  11.0M      0  0:01:11  0:00:39  0:00:32 11.0M\n",
      " 56  786M   56  441M    0     0  11.0M      0  0:01:11  0:00:40  0:00:31 11.0M\n",
      " 57  786M   57  452M    0     0  11.0M      0  0:01:11  0:00:41  0:00:30 11.0M\n",
      " 58  786M   58  463M    0     0  11.0M      0  0:01:11  0:00:42  0:00:29 10.9M\n",
      " 60  786M   60  473M    0     0  11.0M      0  0:01:11  0:00:43  0:00:28 10.9M\n",
      " 61  786M   61  482M    0     0  10.9M      0  0:01:11  0:00:44  0:00:27 10.5M\n",
      " 62  786M   62  493M    0     0  10.9M      0  0:01:11  0:00:45  0:00:26 10.5M\n",
      " 64  786M   64  504M    0     0  10.9M      0  0:01:11  0:00:46  0:00:25 10.5M\n",
      " 65  786M   65  515M    0     0  10.9M      0  0:01:11  0:00:47  0:00:24 10.5M\n",
      " 66  786M   66  526M    0     0  10.9M      0  0:01:11  0:00:48  0:00:23 10.5M\n",
      " 68  786M   68  537M    0     0  10.9M      0  0:01:11  0:00:49  0:00:22 10.9M\n",
      " 69  786M   69  548M    0     0  10.9M      0  0:01:11  0:00:50  0:00:21 11.0M\n",
      " 71  786M   71  559M    0     0  10.9M      0  0:01:11  0:00:51  0:00:20 10.9M\n",
      " 72  786M   72  570M    0     0  10.9M      0  0:01:11  0:00:52  0:00:19 10.9M\n",
      " 73  786M   73  581M    0     0  10.9M      0  0:01:11  0:00:53  0:00:18 10.9M\n",
      " 75  786M   75  592M    0     0  10.9M      0  0:01:11  0:00:54  0:00:17 10.9M\n",
      " 76  786M   76  603M    0     0  10.9M      0  0:01:11  0:00:55  0:00:16 10.8M\n",
      " 78  786M   78  614M    0     0  10.9M      0  0:01:11  0:00:56  0:00:15 10.8M\n",
      " 79  786M   79  625M    0     0  10.9M      0  0:01:11  0:00:57  0:00:14 10.9M\n",
      " 80  786M   80  635M    0     0  10.9M      0  0:01:11  0:00:58  0:00:13 10.9M\n",
      " 82  786M   82  647M    0     0  10.9M      0  0:01:11  0:00:59  0:00:12 10.9M\n",
      " 83  786M   83  658M    0     0  10.9M      0  0:01:11  0:01:00  0:00:11 10.9M\n",
      " 85  786M   85  669M    0     0  10.9M      0  0:01:11  0:01:01  0:00:10 11.0M\n",
      " 86  786M   86  680M    0     0  10.9M      0  0:01:11  0:01:02  0:00:09 10.9M\n",
      " 87  786M   87  688M    0     0  10.9M      0  0:01:11  0:01:03  0:00:08 10.5M\n",
      " 88  786M   88  699M    0     0  10.9M      0  0:01:11  0:01:04  0:00:07 10.5M\n",
      " 90  786M   90  710M    0     0  10.9M      0  0:01:11  0:01:05  0:00:06 10.5M\n",
      " 91  786M   91  721M    0     0  10.9M      0  0:01:11  0:01:06  0:00:05 10.4M\n",
      " 93  786M   93  732M    0     0  10.9M      0  0:01:11  0:01:07  0:00:04 10.4M\n",
      " 94  786M   94  743M    0     0  10.9M      0  0:01:11  0:01:08  0:00:03 10.9M\n",
      " 95  786M   95  754M    0     0  10.9M      0  0:01:11  0:01:09  0:00:02 11.0M\n",
      " 97  786M   97  765M    0     0  10.9M      0  0:01:11  0:01:10  0:00:01 11.0M\n",
      " 98  786M   98  776M    0     0  10.9M      0  0:01:11  0:01:11 --:--:-- 10.9M\n",
      "100  786M  100  786M    0     0  10.9M      0  0:01:12  0:01:12 --:--:-- 11.0M\n"
     ]
    }
   ],
   "source": [
    "!curl -O https://download.microsoft.com/download/3/E/1/3E1C3F21-ECDB-4869-8368-6DEBA77B919F/kagglecatsanddogs_3367a.zip"
   ]
  },
  {
   "cell_type": "markdown",
   "metadata": {},
   "source": [
    "## Mac version"
   ]
  },
  {
   "cell_type": "code",
   "execution_count": 71,
   "metadata": {},
   "outputs": [
    {
     "name": "stdout",
     "output_type": "stream",
     "text": [
      "replace MSR-LA - 3467.docx? [y]es, [n]o, [A]ll, [N]one, [r]ename: ^C\n",
      "Classification_tutorial.ipynb README.md\n",
      "\u001b[34mDebugs\u001b[m\u001b[m                        Untitled.ipynb\n",
      "MSR-LA - 3467.docx            kagglecatsanddogs_3367a.zip\n",
      "\u001b[34mPetImages\u001b[m\u001b[m                     readme[1].txt\n"
     ]
    }
   ],
   "source": [
    "!unzip -q kagglecatsanddogs_3367a.zip\n",
    "!ls"
   ]
  },
  {
   "cell_type": "markdown",
   "metadata": {},
   "source": [
    "## Windows version"
   ]
  },
  {
   "cell_type": "code",
   "execution_count": 8,
   "metadata": {},
   "outputs": [
    {
     "name": "stdout",
     "output_type": "stream",
     "text": [
      " Volume in drive C has no label.\n",
      " Volume Serial Number is 6077-5E3A\n",
      "\n",
      " Directory of C:\\Users\\offmr\\Documents\\DSTI\\Python_ML_LAB\\Oct16\\repos\\211016_PL_Images\n",
      "\n",
      "10/16/2021  12:33 PM    <DIR>          .\n",
      "10/16/2021  12:33 PM    <DIR>          ..\n",
      "10/16/2021  12:26 PM    <DIR>          .ipynb_checkpoints\n",
      "10/16/2021  12:32 PM            16,141 Classification_tutorial.ipynb\n",
      "10/16/2021  12:33 PM       824,894,548 kagglecatsanddogs_3367a.zip\n",
      "02/10/2017  10:55 AM            35,545 MSR-LA - 3467.docx\n",
      "10/16/2021  12:33 PM    <DIR>          PetImages\n",
      "10/16/2021  10:21 AM                74 README.md\n",
      "02/10/2017  10:51 AM               104 readme[1].txt\n",
      "               5 File(s)    824,946,412 bytes\n",
      "               4 Dir(s)  787,339,558,912 bytes free\n"
     ]
    }
   ],
   "source": [
    "# test if directory exist\n",
    "# use subprocess or zipfile package in pure python\n",
    "dirToTest = \"PetImages\"\n",
    "if os.path.isdir(dirToTest) == False :\n",
    "    !tar.exe -xf kagglecatsanddogs_3367a.zip \n",
    "else:\n",
    "    !tar.exe -rf kagglecatsanddogs_3367a.zip\n",
    "\n",
    "!dir"
   ]
  },
  {
   "cell_type": "markdown",
   "metadata": {},
   "source": [
    "Check to see the folders unzipped correctly.  Here we have two folders labelled 'Cats' and 'Dogs', which are the classes we will be using to classify"
   ]
  },
  {
   "cell_type": "markdown",
   "metadata": {},
   "source": [
    "## Filter out corrupted images\n",
    "\n",
    "When working with lots of real-world image data, corrupted images are a common occurence. Let's filter out badly-encoded images that do not feature the string \"JFIF\" in their header."
   ]
  },
  {
   "cell_type": "code",
   "execution_count": 9,
   "metadata": {},
   "outputs": [],
   "source": [
    "def getSubDirs(inputDir): #Function that gives the list of subdirectories\n",
    "\n",
    "    rClasseList =[] #Empty list of subdirectories\n",
    "\n",
    "    for fname in os.listdir(inputDir): #Go over all elements in the directory\n",
    "        fpath = os.path.join(inputDir, fname) #Create full path to each element\n",
    "        if os.path.isdir(fpath): #Check if it is a directory or not.\n",
    "            rClasseList.append(fname) #If it is a directory add it to the list\n",
    "\n",
    "    return rClasseList"
   ]
  },
  {
   "cell_type": "code",
   "execution_count": 10,
   "metadata": {},
   "outputs": [
    {
     "data": {
      "text/plain": [
       "['Cat', 'Dog']"
      ]
     },
     "execution_count": 10,
     "metadata": {},
     "output_type": "execute_result"
    }
   ],
   "source": [
    "getSubDirs (\"./PetImages\")"
   ]
  },
  {
   "cell_type": "markdown",
   "metadata": {},
   "source": [
    "We have two categories Cat and Dog"
   ]
  },
  {
   "cell_type": "code",
   "execution_count": 11,
   "metadata": {},
   "outputs": [],
   "source": [
    "def count_files (inputDir):\n",
    "    classes = getSubDirs (inputDir)\n",
    "    \n",
    "    for folder_name in classes: #look through folders that have the names of classes\n",
    "        folder_path = os.path.join(inputDir, folder_name) \n",
    "        path, dirs, files = next(os.walk(folder_path))\n",
    "        file_count = len(files)\n",
    "        # print (folder_name, 'contains ', file_count, ' files') #This is one way to do it\n",
    "        print (f'{folder_name} contains {file_count} files') #This another.\n",
    "    "
   ]
  },
  {
   "cell_type": "code",
   "execution_count": 75,
   "metadata": {},
   "outputs": [
    {
     "name": "stdout",
     "output_type": "stream",
     "text": [
      "Cat contains 12501 files\n",
      "Dog contains 12501 files\n"
     ]
    }
   ],
   "source": [
    "count_files (\"./PetImages\")"
   ]
  },
  {
   "cell_type": "code",
   "execution_count": null,
   "metadata": {},
   "outputs": [],
   "source": []
  },
  {
   "cell_type": "code",
   "execution_count": 15,
   "metadata": {},
   "outputs": [],
   "source": [
    "def delete_corrupt (input_dir):\n",
    "    classes= getSubDirs (input_dir)\n",
    "    print (classes)\n",
    "    num_skipped = 0  #defines the counter of photos deleted\n",
    "    \n",
    "    for folder_name in tqdm.tqdm(classes) :  #look through folders that have the names of classes\n",
    "        folder_path = os.path.join(input_dir, folder_name) #it creates folderpath for classes in the given folder\n",
    "        for fname in os.listdir(folder_path): # fnmane is just the \"counter\" or local variable (like an i).\n",
    "            #This line will combine the file name to the directory path.  The \"glob2\" lists files and folders etc.\n",
    "            fpath = os.path.join(folder_path, fname) #Combines folder path and file name\n",
    "            try:\n",
    "                fobj = open(fpath, \"rb\") #Opens file.  The \"rb\" command opens the file in binary mode. Use this with images.\n",
    "                is_jfif = tf.compat.as_bytes(\"JFIF\") in fobj.peek(10) #Look at the first ten bytes of the fiel,\n",
    "                                                                        #where the marker is to be found\n",
    "            finally:\n",
    "                fobj.close()\n",
    "\n",
    "            if not is_jfif:\n",
    "                num_skipped += 1\n",
    "                # Delete corrupted image\n",
    "                os.remove(fpath)\n",
    "\n",
    "    print(\"Deleted %d images\" % num_skipped)\n",
    "    "
   ]
  },
  {
   "cell_type": "markdown",
   "metadata": {},
   "source": [
    "[Check this for more information](https://stackoverflow.com/questions/62220855/tensorflow-removing-jfif)"
   ]
  },
  {
   "cell_type": "code",
   "execution_count": 16,
   "metadata": {},
   "outputs": [
    {
     "name": "stdout",
     "output_type": "stream",
     "text": [
      "['Cat', 'Dog']\n"
     ]
    },
    {
     "name": "stderr",
     "output_type": "stream",
     "text": [
      "100%|████████████████████████████████████████████████████████████████████████████████████| 2/2 [00:01<00:00,  1.69it/s]"
     ]
    },
    {
     "name": "stdout",
     "output_type": "stream",
     "text": [
      "Deleted 0 images\n"
     ]
    },
    {
     "name": "stderr",
     "output_type": "stream",
     "text": [
      "\n"
     ]
    }
   ],
   "source": [
    "delete_corrupt ('./PetImages')"
   ]
  },
  {
   "cell_type": "code",
   "execution_count": 17,
   "metadata": {},
   "outputs": [
    {
     "name": "stdout",
     "output_type": "stream",
     "text": [
      "Cat contains 11749 files\n",
      "Dog contains 11675 files\n"
     ]
    }
   ],
   "source": [
    "count_files (\"./PetImages\")"
   ]
  },
  {
   "cell_type": "markdown",
   "metadata": {},
   "source": [
    "## Generate the Dataset"
   ]
  },
  {
   "cell_type": "code",
   "execution_count": 21,
   "metadata": {},
   "outputs": [],
   "source": [
    "def generateDataset (pInputDir, pValidation_split, pImage_size, pBatch_size):\n",
    "    \"\"\"\n",
    "        pInputDir : input directorywhere the subdirs are presents\n",
    "        pValidation_split : validation_split param 0.x format\n",
    "        pImage_size : image_size param (x,y) format\n",
    "        pBatch_size : batch_size param , set of images\n",
    "    \"\"\"\n",
    "   \n",
    "    train_ds = tf.keras.preprocessing.image_dataset_from_directory(\n",
    "        pInputDir,\n",
    "        validation_split=pValidation_split,\n",
    "        subset=\"training\",\n",
    "        seed=1337,\n",
    "        image_size=pImage_size,\n",
    "        batch_size=pBatch_size,\n",
    "    )\n",
    "    val_ds = tf.keras.preprocessing.image_dataset_from_directory(\n",
    "        pInputDir,\n",
    "        validation_split=pValidation_split,\n",
    "        subset=\"validation\",\n",
    "        seed=1337,\n",
    "        image_size=pImage_size,\n",
    "        batch_size=pBatch_size,\n",
    "    )\n",
    "    \n",
    "    return train_ds, val_ds"
   ]
  },
  {
   "cell_type": "markdown",
   "metadata": {},
   "source": [
    "## test the dataset generation"
   ]
  },
  {
   "cell_type": "code",
   "execution_count": 22,
   "metadata": {},
   "outputs": [
    {
     "name": "stdout",
     "output_type": "stream",
     "text": [
      "Found 23422 files belonging to 2 classes.\n",
      "Using 18738 files for training.\n",
      "Found 23422 files belonging to 2 classes.\n",
      "Using 4684 files for validation.\n"
     ]
    }
   ],
   "source": [
    "image_size = (180, 180)\n",
    "batch_size = 32\n",
    "inputDir=\"PetImages\"\n",
    "validation_split=0.2\n",
    "\n",
    "to_train_ds, validation_ds = generateDataset (inputDir,validation_split, image_size, batch_size  )"
   ]
  },
  {
   "cell_type": "code",
   "execution_count": 36,
   "metadata": {
    "scrolled": false
   },
   "outputs": [
    {
     "name": "stdout",
     "output_type": "stream",
     "text": [
      "(<tf.Tensor: shape=(32, 180, 180, 3), dtype=float32, numpy=\n",
      "array([[[[ 77.94907  ,  75.94907  ,  54.949074 ],\n",
      "         [ 79.666664 ,  77.666664 ,  56.666668 ],\n",
      "         [ 81.44444  ,  79.44444  ,  58.444443 ],\n",
      "         ...,\n",
      "         [204.45833  , 208.45833  , 183.45833  ],\n",
      "         [204.63889  , 208.63889  , 184.30551  ],\n",
      "         [205.       , 209.       , 186.       ]],\n",
      "\n",
      "        [[ 78.55556  ,  76.55556  ,  55.555557 ],\n",
      "         [ 80.416664 ,  78.416664 ,  57.416668 ],\n",
      "         [ 82.       ,  80.       ,  59.       ],\n",
      "         ...,\n",
      "         [204.       , 208.       , 181.       ],\n",
      "         [204.33331  , 208.33331  , 181.99994  ],\n",
      "         [205.       , 209.       , 184.       ]],\n",
      "\n",
      "        [[ 79.       ,  77.       ,  56.       ],\n",
      "         [ 80.90278  ,  78.90278  ,  57.90278  ],\n",
      "         [ 82.83796  ,  80.83796  ,  59.837963 ],\n",
      "         ...,\n",
      "         [204.       , 207.       , 180.       ],\n",
      "         [204.66663  , 207.33331  , 181.33325  ],\n",
      "         [206.       , 208.       , 184.       ]],\n",
      "\n",
      "        ...,\n",
      "\n",
      "        [[184.       , 193.       , 190.       ],\n",
      "         [185.47223  , 194.47223  , 191.47223  ],\n",
      "         [186.       , 195.       , 192.       ],\n",
      "         ...,\n",
      "         [210.29166  , 218.29166  , 207.29166  ],\n",
      "         [210.62497  , 217.95834  , 206.62503  ],\n",
      "         [211.29166  , 217.29166  , 205.29166  ]],\n",
      "\n",
      "        [[183.625    , 192.625    , 189.625    ],\n",
      "         [184.875    , 193.875    , 190.875    ],\n",
      "         [185.625    , 194.625    , 191.625    ],\n",
      "         ...,\n",
      "         [210.625    , 218.625    , 207.625    ],\n",
      "         [210.37502  , 217.70839  , 206.37508  ],\n",
      "         [209.875    , 215.875    , 203.875    ]],\n",
      "\n",
      "        [[183.       , 192.       , 189.       ],\n",
      "         [183.84723  , 192.84723  , 189.84723  ],\n",
      "         [185.       , 194.       , 191.       ],\n",
      "         ...,\n",
      "         [208.54169  , 216.54169  , 205.54169  ],\n",
      "         [208.18059  , 215.51396  , 204.18065  ],\n",
      "         [207.45831  , 213.45831  , 201.45831  ]]],\n",
      "\n",
      "\n",
      "       [[[140.71605  , 144.71605  , 156.16049  ],\n",
      "         [139.       , 143.66667  , 151.33333  ],\n",
      "         [147.1358   , 151.1358   , 151.02469  ],\n",
      "         ...,\n",
      "         [ 56.38271  ,  57.38271  ,  62.16048  ],\n",
      "         [ 55.55551  ,  56.55551  ,  60.85182  ],\n",
      "         [ 45.71601  ,  46.71601  ,  51.71601  ]],\n",
      "\n",
      "        [[138.8148   , 142.8148   , 154.25926  ],\n",
      "         [138.11111  , 142.77779  , 150.44444  ],\n",
      "         [148.40741  , 152.40741  , 152.2963   ],\n",
      "         ...,\n",
      "         [ 42.81478  ,  44.81478  ,  53.481445 ],\n",
      "         [ 43.777763 ,  45.555534 ,  55.111115 ],\n",
      "         [ 41.148155 ,  42.481487 ,  54.777794 ]],\n",
      "\n",
      "        [[148.22221  , 152.22221  , 163.66666  ],\n",
      "         [138.       , 142.66667  , 150.33333  ],\n",
      "         [148.34569  , 152.34569  , 152.23457  ],\n",
      "         ...,\n",
      "         [ 97.21007  ,  99.21007  , 111.21007  ],\n",
      "         [120.99995  , 122.99995  , 135.99994  ],\n",
      "         [111.111046 , 112.41968  , 129.49377  ]],\n",
      "\n",
      "        ...,\n",
      "\n",
      "        [[189.28395  , 189.28395  , 191.28395  ],\n",
      "         [184.74072  , 184.74072  , 184.74072  ],\n",
      "         [184.45683  , 184.45683  , 182.45683  ],\n",
      "         ...,\n",
      "         [164.96281  , 165.96281  , 167.96281  ],\n",
      "         [163.11111  , 164.11111  , 166.11111  ],\n",
      "         [161.88892  , 162.88892  , 164.88892  ]],\n",
      "\n",
      "        [[187.88878  , 184.03696  , 186.81479  ],\n",
      "         [186.22217  , 184.88887  , 185.44441  ],\n",
      "         [178.85167  , 178.18504  , 177.18498  ],\n",
      "         ...,\n",
      "         [176.14809  , 176.81477  , 178.81477  ],\n",
      "         [170.3332   , 170.9999   , 172.33327  ],\n",
      "         [169.03693  , 169.70361  , 171.03699  ]],\n",
      "\n",
      "        [[190.82718  , 184.82718  , 186.82718  ],\n",
      "         [184.29639  , 180.29639  , 181.29639  ],\n",
      "         [181.53091  , 179.53091  , 180.53091  ],\n",
      "         ...,\n",
      "         [176.82721  , 176.82721  , 178.82721  ],\n",
      "         [175.55557  , 175.55557  , 175.55557  ],\n",
      "         [173.87657  , 173.87657  , 173.87657  ]]],\n",
      "\n",
      "\n",
      "       [[[138.22406  , 144.22406  , 100.224075 ],\n",
      "         [ 88.76111  ,  90.74444  ,  52.046288 ],\n",
      "         [ 82.82716  ,  83.104935 ,  51.506176 ],\n",
      "         ...,\n",
      "         [ 69.904594 ,  81.448    ,  79.70131  ],\n",
      "         [ 46.59626  ,  64.72218  ,  67.19625  ],\n",
      "         [ 76.13537  ,  95.829216 ,  93.2156   ]],\n",
      "\n",
      "        [[147.69446  , 153.69446  , 108.361115 ],\n",
      "         [164.06113  , 166.06113  , 126.066666 ],\n",
      "         [181.69444  , 182.97221  , 145.24074  ],\n",
      "         ...,\n",
      "         [ 48.472084 ,  56.398193 ,  48.759277 ],\n",
      "         [ 35.07776  ,  48.07776  ,  37.766644 ],\n",
      "         [ 43.070457 ,  57.070457 ,  41.185265 ]],\n",
      "\n",
      "        [[139.6926   , 145.6926   ,  99.69259  ],\n",
      "         [154.2963   , 157.2963   , 112.329636 ],\n",
      "         [146.68828  , 148.96605  , 106.32716  ],\n",
      "         ...,\n",
      "         [ 44.808228 ,  46.197166 ,  40.36378  ],\n",
      "         [ 19.477741 ,  23.255522 ,  13.033298 ],\n",
      "         [ 36.68961  ,  41.467392 ,  26.290829 ]],\n",
      "\n",
      "        ...,\n",
      "\n",
      "        [[151.17834  , 125.17835  ,  99.43145  ],\n",
      "         [153.92015  , 128.44977  ,  99.792404 ],\n",
      "         [144.99066  , 117.99066  ,  88.43512  ],\n",
      "         ...,\n",
      "         [ 24.382654 ,  34.38867  ,  19.944336 ],\n",
      "         [ 19.929647 ,  25.929647 ,  13.929647 ],\n",
      "         [ 16.       ,  22.       ,  10.       ]],\n",
      "\n",
      "        [[146.42079  , 121.32263  ,  85.896935 ],\n",
      "         [149.21152  , 131.21689  , 103.8279   ],\n",
      "         [130.20387  , 106.43531  ,  79.870316 ],\n",
      "         ...,\n",
      "         [ 29.888788 ,  31.527622 ,  22.018269 ],\n",
      "         [ 34.66632  ,  33.599857 ,  24.294191 ],\n",
      "         [ 23.775883 ,  32.879536 ,  20.327648 ]],\n",
      "\n",
      "        [[178.07565  , 151.37875  , 114.18606  ],\n",
      "         [100.03824  ,  94.0549   ,  80.145584 ],\n",
      "         [ 92.11442  ,  71.05889  ,  63.3767   ],\n",
      "         ...,\n",
      "         [ 33.354454 ,  31.925182 ,  28.956045 ],\n",
      "         [ 12.944706 ,  23.537155 ,  15.366825 ],\n",
      "         [ 19.833153 ,  61.872467 ,  41.847225 ]]],\n",
      "\n",
      "\n",
      "       ...,\n",
      "\n",
      "\n",
      "       [[[ 78.91667  , 125.4      ,  35.466667 ],\n",
      "         [107.865005 , 154.16501  ,  54.11     ],\n",
      "         [111.350006 , 153.05835  ,  55.52501  ],\n",
      "         ...,\n",
      "         [129.88336  , 150.30002  ,  81.300026 ],\n",
      "         [146.03015  , 161.03015  ,  94.03016  ],\n",
      "         [149.70667  , 168.27167  , 103.73999  ]],\n",
      "\n",
      "        [[112.73334  , 155.63333  ,  74.23334  ],\n",
      "         [ 88.72     , 130.61     ,  51.715    ],\n",
      "         [124.308334 , 163.20833  ,  84.725006 ],\n",
      "         ...,\n",
      "         [125.066666 , 148.57497  ,  83.05831  ],\n",
      "         [128.97021  , 149.32521  ,  79.01517  ],\n",
      "         [127.33167  , 149.71666  ,  79.39667  ]],\n",
      "\n",
      "        [[108.55     , 148.29166  ,  83.308334 ],\n",
      "         [109.175    , 148.9      ,  79.275    ],\n",
      "         [112.41667  , 151.625    ,  76.95833  ],\n",
      "         ...,\n",
      "         [141.50012  , 170.00012  ,  99.083466 ],\n",
      "         [145.72499  , 173.32503  , 100.124954 ],\n",
      "         [137.275    , 168.775    ,  84.74167  ]],\n",
      "\n",
      "        ...,\n",
      "\n",
      "        [[105.22461  , 144.91623  ,  75.04941  ],\n",
      "         [ 86.62502  , 132.85     ,  43.950066 ],\n",
      "         [ 73.2913   , 116.124626 ,  40.54142  ],\n",
      "         ...,\n",
      "         [ 61.2497   , 105.41642  ,  31.666391 ],\n",
      "         [ 70.19994  , 113.199936 ,  37.79998  ],\n",
      "         [ 71.592224 , 115.36693  ,  48.158726 ]],\n",
      "\n",
      "        [[ 78.8166   , 122.486664 ,  40.506542 ],\n",
      "         [ 75.614685 , 121.4247   ,  41.32981  ],\n",
      "         [ 20.54946  ,  62.67447  ,   1.6912527],\n",
      "         ...,\n",
      "         [ 68.50857  , 117.26696  ,  36.691853 ],\n",
      "         [ 49.91033  ,  94.16024  ,  17.550323 ],\n",
      "         [ 91.76491  , 124.69826  ,  63.133278 ]],\n",
      "\n",
      "        [[ 58.574966 , 110.874985 ,  28.803347 ],\n",
      "         [ 59.96502  , 107.06502  ,  32.880047 ],\n",
      "         [ 69.09187  , 109.97523  ,  38.000183 ],\n",
      "         ...,\n",
      "         [ 63.50819  , 117.516556 ,  27.783188 ],\n",
      "         [ 64.48477  , 112.23973  ,  34.404835 ],\n",
      "         [ 67.68843  , 108.25514  ,  41.505108 ]]],\n",
      "\n",
      "\n",
      "       [[[128.40277  ,  93.40278  ,  73.40278  ],\n",
      "         [136.77777  , 100.77778  ,  86.111115 ],\n",
      "         [137.625    , 103.625    ,  93.625    ],\n",
      "         ...,\n",
      "         [ 49.30092  ,  52.30092  ,  59.30092  ],\n",
      "         [ 50.02775  ,  53.02775  ,  60.02775  ],\n",
      "         [ 52.111084 ,  55.111084 ,  62.111084 ]],\n",
      "\n",
      "        [[135.40277  ,  98.40278  ,  79.40278  ],\n",
      "         [142.91667  , 106.583336 ,  91.5      ],\n",
      "         [144.91667  , 108.416664 ,  99.25     ],\n",
      "         ...,\n",
      "         [ 51.625    ,  54.625    ,  61.625    ],\n",
      "         [ 51.83336  ,  54.83336  ,  61.83336  ],\n",
      "         [ 52.111084 ,  55.111084 ,  62.111084 ]],\n",
      "\n",
      "        [[135.4398   ,  97.43981  ,  76.958336 ],\n",
      "         [142.625    , 105.43056  ,  89.34722  ],\n",
      "         [144.68518  , 107.291664 ,  97.50463  ],\n",
      "         ...,\n",
      "         [ 52.       ,  55.       ,  62.       ],\n",
      "         [ 52.333374 ,  55.333374 ,  62.333374 ],\n",
      "         [ 52.111084 ,  55.111084 ,  62.111084 ]],\n",
      "\n",
      "        ...,\n",
      "\n",
      "        [[119.078705 ,  68.078705 ,  41.078705 ],\n",
      "         [118.37501  ,  64.37501  ,  39.902782 ],\n",
      "         [107.4352   ,  65.435196 ,  38.101868 ],\n",
      "         ...,\n",
      "         [ 43.444458 ,  46.444458 ,  53.444458 ],\n",
      "         [ 37.902725 ,  40.902725 ,  47.902725 ],\n",
      "         [ 44.416687 ,  47.416687 ,  54.416687 ]],\n",
      "\n",
      "        [[117.29167  ,  66.29167  ,  39.291668 ],\n",
      "         [115.708336 ,  61.458332 ,  38.208332 ],\n",
      "         [103.13889  ,  61.13889  ,  34.222225 ],\n",
      "         ...,\n",
      "         [ 43.444458 ,  46.444458 ,  53.444458 ],\n",
      "         [ 38.333313 ,  41.333313 ,  48.333313 ],\n",
      "         [ 41.513916 ,  44.513916 ,  51.513916 ]],\n",
      "\n",
      "        [[115.06019  ,  63.601875 ,  37.976814 ],\n",
      "         [112.20835  ,  57.388916 ,  35.84723  ],\n",
      "         [ 99.43058  ,  57.430576 ,  32.097244 ],\n",
      "         ...,\n",
      "         [ 43.       ,  46.       ,  53.       ],\n",
      "         [ 38.97215  ,  41.97215  ,  48.97215  ],\n",
      "         [ 40.777832 ,  43.777832 ,  50.777832 ]]],\n",
      "\n",
      "\n",
      "       [[[ 65.22222  ,  85.22222  , 122.22222  ],\n",
      "         [ 72.833336 ,  92.833336 , 129.5      ],\n",
      "         [ 92.55556  , 112.55556  , 147.55556  ],\n",
      "         ...,\n",
      "         [ 78.       ,  98.       , 131.       ],\n",
      "         [ 72.99994  ,  93.83328  , 125.166595 ],\n",
      "         [ 65.388794 ,  86.388794 , 117.388794 ]],\n",
      "\n",
      "        [[ 82.55556  , 102.55556  , 137.55556  ],\n",
      "         [ 79.16667  ,  99.16667  , 134.16667  ],\n",
      "         [ 95.       , 115.       , 149.44444  ],\n",
      "         ...,\n",
      "         [ 81.44446  , 101.44446  , 135.       ],\n",
      "         [ 75.33325  ,  96.166595 , 127.49991  ],\n",
      "         [ 65.49988  ,  86.49988  , 117.49988  ]],\n",
      "\n",
      "        [[ 79.94444  ,  99.94444  , 134.83333  ],\n",
      "         [ 73.       ,  93.       , 126.       ],\n",
      "         [ 43.27778  ,  63.27778  ,  96.27778  ],\n",
      "         ...,\n",
      "         [ 78.0556   ,  98.0556   , 131.61115  ],\n",
      "         [ 78.33331  ,  98.33331  , 131.33331  ],\n",
      "         [ 69.49988  ,  90.444336 , 121.55542  ]],\n",
      "\n",
      "        ...,\n",
      "\n",
      "        [[187.72223  , 186.72223  , 182.72223  ],\n",
      "         [201.5      , 200.5      , 196.5      ],\n",
      "         [208.72223  , 208.27777  , 204.       ],\n",
      "         ...,\n",
      "         [129.66663  , 134.66663  , 137.66663  ],\n",
      "         [122.166595 , 127.166595 , 130.1666   ],\n",
      "         [120.05554  , 125.05554  , 128.05554  ]],\n",
      "\n",
      "        [[186.5      , 185.5      , 181.5      ],\n",
      "         [196.16667  , 195.16667  , 191.16667  ],\n",
      "         [202.55556  , 202.11111  , 197.83333  ],\n",
      "         ...,\n",
      "         [130.33325  , 135.33325  , 138.33325  ],\n",
      "         [119.49991  , 124.49991  , 127.49991  ],\n",
      "         [114.22217  , 119.22217  , 122.22217  ]],\n",
      "\n",
      "        [[191.72223  , 190.72223  , 186.72223  ],\n",
      "         [186.83333  , 185.83333  , 181.83333  ],\n",
      "         [188.77779  , 188.33333  , 184.05556  ],\n",
      "         ...,\n",
      "         [118.83331  , 123.83331  , 126.83331  ],\n",
      "         [116.33331  , 121.33331  , 124.33331  ],\n",
      "         [116.       , 121.       , 124.       ]]]], dtype=float32)>, <tf.Tensor: shape=(32,), dtype=int32, numpy=\n",
      "array([0, 1, 1, 0, 0, 1, 0, 1, 0, 1, 0, 1, 0, 0, 1, 0, 1, 1, 1, 1, 1, 0,\n",
      "       0, 1, 0, 0, 0, 0, 0, 1, 0, 0])>)\n",
      "Tensor of 1st element \n",
      " (32, 180, 180, 3)\n"
     ]
    },
    {
     "ename": "AttributeError",
     "evalue": "'function' object has no attribute 'shape'",
     "output_type": "error",
     "traceback": [
      "\u001b[1;31m---------------------------------------------------------------------------\u001b[0m",
      "\u001b[1;31mAttributeError\u001b[0m                            Traceback (most recent call last)",
      "\u001b[1;32m<ipython-input-36-2ff916e63068>\u001b[0m in \u001b[0;36m<module>\u001b[1;34m\u001b[0m\n\u001b[0;32m      3\u001b[0m     \u001b[0mprint\u001b[0m\u001b[1;33m(\u001b[0m\u001b[1;34m\"Tensor of 1st element \\n\"\u001b[0m \u001b[1;33m,\u001b[0m \u001b[0melement\u001b[0m\u001b[1;33m[\u001b[0m\u001b[1;36m0\u001b[0m\u001b[1;33m]\u001b[0m\u001b[1;33m.\u001b[0m\u001b[0mshape\u001b[0m\u001b[1;33m)\u001b[0m\u001b[1;33m\u001b[0m\u001b[1;33m\u001b[0m\u001b[0m\n\u001b[0;32m      4\u001b[0m     \u001b[0mmy_np\u001b[0m \u001b[1;33m=\u001b[0m \u001b[0melement\u001b[0m\u001b[1;33m[\u001b[0m\u001b[1;36m0\u001b[0m\u001b[1;33m]\u001b[0m\u001b[1;33m.\u001b[0m\u001b[0mnumpy\u001b[0m\u001b[1;33m\u001b[0m\u001b[1;33m\u001b[0m\u001b[0m\n\u001b[1;32m----> 5\u001b[1;33m     \u001b[0mprint\u001b[0m\u001b[1;33m(\u001b[0m\u001b[0mmy_np\u001b[0m\u001b[1;33m.\u001b[0m\u001b[0mshape\u001b[0m\u001b[1;33m)\u001b[0m\u001b[1;33m\u001b[0m\u001b[1;33m\u001b[0m\u001b[0m\n\u001b[0m\u001b[0;32m      6\u001b[0m     \u001b[1;32mbreak\u001b[0m\u001b[1;33m\u001b[0m\u001b[1;33m\u001b[0m\u001b[0m\n",
      "\u001b[1;31mAttributeError\u001b[0m: 'function' object has no attribute 'shape'"
     ]
    }
   ],
   "source": [
    "for element in to_train_ds:\n",
    "    print(element)\n",
    "    print(\"Tensor of 1st element \\n\" , element[0].shape)\n",
    "    \n",
    "\n",
    "    break"
   ]
  },
  {
   "cell_type": "markdown",
   "metadata": {},
   "source": [
    "### first image of the batch of 32"
   ]
  },
  {
   "cell_type": "code",
   "execution_count": 50,
   "metadata": {},
   "outputs": [
    {
     "data": {
      "text/plain": [
       "<matplotlib.image.AxesImage at 0x184e8f23280>"
      ]
     },
     "execution_count": 50,
     "metadata": {},
     "output_type": "execute_result"
    },
    {
     "data": {
      "image/png": "[encoded data removed]",
      "text/plain": [
       "<Figure size 720x1080 with 1 Axes>"
      ]
     },
     "metadata": {
      "needs_background": "light"
     },
     "output_type": "display_data"
    }
   ],
   "source": [
    "#element[0][0]\n",
    "# display it\n",
    "plt.figure(figsize=(10, 10))  # image size\n",
    "plt.axis(\"off\")               # remove axis\n",
    "plt.imshow(element[0][0].numpy().astype(\"uint8\"))  #need to convert to int unsigned integer 8 \n",
    "\n",
    "## try with  .take\n"
   ]
  },
  {
   "cell_type": "code",
   "execution_count": null,
   "metadata": {},
   "outputs": [],
   "source": []
  }
 ],
 "metadata": {
  "kernelspec": {
   "display_name": "Python 3",
   "language": "python",
   "name": "python3"
  },
  "language_info": {
   "codemirror_mode": {
    "name": "ipython",
    "version": 3
   },
   "file_extension": ".py",
   "mimetype": "text/x-python",
   "name": "python",
   "nbconvert_exporter": "python",
   "pygments_lexer": "ipython3",
   "version": "3.8.8"
  }
 },
 "nbformat": 4,
 "nbformat_minor": 4
}
